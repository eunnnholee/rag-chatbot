{
 "cells": [
  {
   "cell_type": "markdown",
   "metadata": {},
   "source": [
    "# Load Library"
   ]
  },
  {
   "cell_type": "code",
   "execution_count": null,
   "metadata": {},
   "outputs": [
    {
     "name": "stdout",
     "output_type": "stream",
     "text": [
      "time: 0 ns (started: 2025-04-29 14:59:01 +09:00)\n"
     ]
    }
   ],
   "source": [
    "import os\n",
    "import random\n",
    "import re\n",
    "import traceback\n",
    "import warnings\n",
    "from glob import glob\n",
    "from pprint import pprint\n",
    "from textwrap import dedent\n",
    "from typing import List, Tuple\n",
    "\n",
    "import gradio as gr\n",
    "from dotenv import load_dotenv\n",
    "from langchain.agents import AgentExecutor, create_tool_calling_agent\n",
    "from langchain_chroma import Chroma\n",
    "from langchain_community.document_loaders import PyPDFLoader\n",
    "from langchain_community.vectorstores import Chroma\n",
    "from langchain_core.documents import Document\n",
    "from langchain_core.messages import AIMessage, HumanMessage\n",
    "from langchain_core.prompts import ChatPromptTemplate, MessagesPlaceholder\n",
    "from langchain_core.tools import tool\n",
    "from langchain_openai import ChatOpenAI, OpenAIEmbeddings\n",
    "\n",
    "warnings.filterwarnings(\"ignore\")\n",
    "\n",
    "load_dotenv()\n",
    "\n",
    "%reload_ext autotime"
   ]
  },
  {
   "cell_type": "code",
   "execution_count": 2,
   "metadata": {},
   "outputs": [
    {
     "name": "stdout",
     "output_type": "stream",
     "text": [
      "time: 0 ns (started: 2025-04-29 14:59:01 +09:00)\n"
     ]
    }
   ],
   "source": [
    "DATA_DIR = '../data'\n",
    "PERSIST_DIR = \"./chroma_db\"\n",
    "\n",
    "# 법률 이름 매핑 딕셔너리\n",
    "LAW_NAME_MAPPING = {\n",
    "    \"고용보험법\": \"employment_insurance_act\",\n",
    "    \"근로기준법\": \"labor_standards_act\",\n",
    "    \"남녀고용평등과 일ㆍ가정 양립 지원에 관한 법률\": \"gender_equality_employment_act\",\n",
    "}"
   ]
  },
  {
   "cell_type": "markdown",
   "metadata": {},
   "source": [
    "# Define Function"
   ]
  },
  {
   "cell_type": "code",
   "execution_count": 3,
   "metadata": {},
   "outputs": [
    {
     "name": "stdout",
     "output_type": "stream",
     "text": [
      "time: 16 ms (started: 2025-04-29 14:59:01 +09:00)\n"
     ]
    }
   ],
   "source": [
    "def split_articles(lines):\n",
    "    \"\"\"\n",
    "    조문 본문에서 개행으로 인한 단어 분리를 방지하기 위해\n",
    "    줄 간 공백 없이 연결한다. 조문은 '제X조(제목)' 형식으로 시작한다.\n",
    "    \"\"\"\n",
    "    # 조문을 저장할 리스트\n",
    "    articles = []\n",
    "    # 현재 처리 중인 조문의 제목\n",
    "    current_title = None  \n",
    "    # 현재 처리 중인 조문의 내용\n",
    "    current_content = []\n",
    "\n",
    "    # '제X조(제목)' 형식을 찾기 위한 정규표현식 패턴\n",
    "    title_pattern = re.compile(r'^(제\\d+조(?:의\\d+)?\\([^)]+\\))')\n",
    "\n",
    "    # 각 줄을 순회하며 처리\n",
    "    for line in map(str.strip, lines):\n",
    "        if not line:  # 빈 줄 건너뛰기\n",
    "            continue\n",
    "\n",
    "        # 조문 제목 패턴이 매칭되는지 확인\n",
    "        match = title_pattern.match(line)\n",
    "        if match:\n",
    "            # 이전 조문이 있으면 저장\n",
    "            if current_title:\n",
    "                articles.append(f\"{current_title}\\n{''.join(current_content)}\")\n",
    "            # 새로운 조문 시작\n",
    "            current_title = match.group(1)\n",
    "            rest = line[len(current_title):].strip()\n",
    "            current_content = [rest] if rest else []\n",
    "        elif current_title:\n",
    "            # 조문 내용 추가\n",
    "            current_content.append(line)\n",
    "\n",
    "    # 마지막 조문 저장\n",
    "    if current_title:\n",
    "        articles.append(f\"{current_title}\\n{''.join(current_content)}\")\n",
    "\n",
    "    return [a.strip() for a in articles]\n",
    "\n",
    "def parse_law_with_sections(law_text):\n",
    "    \"\"\"\n",
    "    전체 법령 텍스트를 서문, 장, 절, 조문 단위로 구조화하여 파싱한다.\n",
    "    \"\"\"\n",
    "    # 줄바꿈 문자 정규화\n",
    "    law_text = law_text.replace('\\r\\n', '\\n').replace('\\r', '\\n')\n",
    "    lines = map(str.strip, law_text.split('\\n'))\n",
    "\n",
    "    # 파싱 결과를 저장할 딕셔너리\n",
    "    parsed_law = {'서문': '', '장': {}, '부칙': ''}\n",
    "    \n",
    "    # 장과 절을 찾기 위한 정규표현식 패턴\n",
    "    chapter_pattern = re.compile(r'^제\\d+장\\s+\\S+')\n",
    "    section_pattern = re.compile(r'^제\\d+절\\s+\\S+')\n",
    "\n",
    "    # 현재 처리 중인 위치 추적용 변수들\n",
    "    current_chapter = None\n",
    "    current_section = None\n",
    "    chapter_buffer = {}\n",
    "    buffer = []\n",
    "    preamble_done = False\n",
    "\n",
    "    # 각 줄을 순회하며 처리\n",
    "    for i, line in enumerate(lines):\n",
    "        if not line:\n",
    "            continue\n",
    "\n",
    "        # 부칙 처리\n",
    "        if line.startswith(\"부칙\"):\n",
    "            if current_section:\n",
    "                chapter_buffer[current_section] = buffer\n",
    "            elif buffer:\n",
    "                chapter_buffer['조문'] = buffer\n",
    "            if current_chapter:\n",
    "                parsed_law['장'][current_chapter] = {\n",
    "                    k: split_articles(v) for k, v in chapter_buffer.items()\n",
    "                }\n",
    "            parsed_law['부칙'] = '\\n'.join([line] + list(lines)[i+1:]).strip()\n",
    "            break\n",
    "\n",
    "        # 장 처리\n",
    "        if chapter_pattern.match(line):\n",
    "            if not preamble_done:\n",
    "                parsed_law['서문'] = '\\n'.join(buffer).strip()\n",
    "                preamble_done = True\n",
    "            elif current_chapter:\n",
    "                if current_section:\n",
    "                    chapter_buffer[current_section] = buffer\n",
    "                elif buffer:\n",
    "                    chapter_buffer['조문'] = buffer\n",
    "                parsed_law['장'][current_chapter] = {\n",
    "                    k: split_articles(v) for k, v in chapter_buffer.items()\n",
    "                }\n",
    "            current_chapter = line\n",
    "            chapter_buffer = {}\n",
    "            current_section = None\n",
    "            buffer = []\n",
    "            continue\n",
    "\n",
    "        # 절 처리\n",
    "        if section_pattern.match(line):\n",
    "            if current_section:\n",
    "                chapter_buffer[current_section] = buffer\n",
    "            elif buffer:\n",
    "                chapter_buffer['조문'] = buffer\n",
    "            current_section = line\n",
    "            buffer = []\n",
    "            continue\n",
    "\n",
    "        buffer.append(line)\n",
    "\n",
    "    # 마지막 장 저장\n",
    "    if current_chapter:\n",
    "        if current_section:\n",
    "            chapter_buffer[current_section] = buffer\n",
    "        elif buffer:\n",
    "            chapter_buffer['조문'] = buffer\n",
    "        parsed_law['장'][current_chapter] = {\n",
    "            k: split_articles(v) for k, v in chapter_buffer.items()\n",
    "        }\n",
    "\n",
    "    return parsed_law\n",
    "\n",
    "\n",
    "def create_document(pdf_file: str, law_name: str) -> List[Document]:\n",
    "    loader = PyPDFLoader(pdf_file)\n",
    "    pages = loader.load()\n",
    "    \n",
    "    # 푸터 제거용 패턴\n",
    "    footer_pattern = rf\"법제처\\s+\\d+\\s+국가법령정보센터\\s*\\n{law_name}\"\n",
    "    re_footer = re.compile(footer_pattern)\n",
    "    \n",
    "    # 각 페이지에서 푸터 제거\n",
    "    cleaned_pages = []\n",
    "    for p in pages:\n",
    "        text = p.page_content.strip()\n",
    "        cleaned = re_footer.sub('', text)\n",
    "        cleaned_pages.append(cleaned.strip())\n",
    "        \n",
    "    # 전체 문서 텍스트 결합\n",
    "    law_text = \"\\n\".join(cleaned_pages)\n",
    "    \n",
    "    parsed_law = parse_law_with_sections(law_text)\n",
    "    \n",
    "    # Document 객체로 만들기\n",
    "    final_docs = []\n",
    "    \n",
    "    for chapter, sections in parsed_law[\"장\"].items():\n",
    "        for section, articles in sections.items():\n",
    "            for article_text in articles:\n",
    "                # 조문 제목 줄 (예: \"제1조(목적)\")\n",
    "                title_line = article_text.split(\"\\n\", 1)[0]\n",
    "                \n",
    "                # LangChain 문서 metadata 구성\n",
    "                metadata = {\n",
    "                    \"source\": pdf_file,\n",
    "                    \"chapter\": chapter,\n",
    "                    \"section\": section,\n",
    "                    \"name\": law_name,\n",
    "                    \"article\": title_line\n",
    "                }\n",
    "                \n",
    "                # LangChain 문서 본문 구성\n",
    "                content = (\n",
    "                    f\"[법률정보]\\n\"\n",
    "                    f\"다음 조항은 {metadata['name']} {metadata['chapter']} {metadata['section']}에서 발췌한 내용입니다.\\n\\n[법률조항]\\n\"\n",
    "                    f\"{article_text}\"\n",
    "                )\n",
    "\n",
    "                final_docs.append(Document(page_content=content, metadata=metadata))\n",
    "                \n",
    "    return final_docs"
   ]
  },
  {
   "cell_type": "markdown",
   "metadata": {},
   "source": [
    "# Load Raw Documents"
   ]
  },
  {
   "cell_type": "code",
   "execution_count": 4,
   "metadata": {},
   "outputs": [
    {
     "data": {
      "text/plain": [
       "['../data\\\\고용보험법(법률)(제20519호)(20250223).pdf',\n",
       " '../data\\\\근로기준법(법률)(제20520호)(20250223).pdf',\n",
       " '../data\\\\남녀고용평등과 일ㆍ가정 양립 지원에 관한 법률(법률)(제20521호)(20250223).pdf']"
      ]
     },
     "execution_count": 4,
     "metadata": {},
     "output_type": "execute_result"
    },
    {
     "name": "stdout",
     "output_type": "stream",
     "text": [
      "time: 15 ms (started: 2025-04-29 14:59:01 +09:00)\n"
     ]
    }
   ],
   "source": [
    "# pdf 파일 목록을 확인\n",
    "pdf_files = glob(os.path.join(DATA_DIR, '*.pdf'))\n",
    "\n",
    "pdf_files"
   ]
  },
  {
   "cell_type": "markdown",
   "metadata": {},
   "source": [
    "# Create VectorDB"
   ]
  },
  {
   "cell_type": "code",
   "execution_count": 5,
   "metadata": {},
   "outputs": [
    {
     "name": "stdout",
     "output_type": "stream",
     "text": [
      "time: 13.8 s (started: 2025-04-29 14:59:01 +09:00)\n"
     ]
    }
   ],
   "source": [
    "embeddings = OpenAIEmbeddings()\n",
    "\n",
    "for idx, (law_name, collection_name) in enumerate(LAW_NAME_MAPPING.items()):\n",
    "    final_documents = create_document(pdf_file=pdf_files[idx], law_name=law_name)\n",
    "    \n",
    "    Chroma.from_documents(\n",
    "        documents=final_documents,\n",
    "        embedding=embeddings,\n",
    "        collection_name=collection_name,\n",
    "        persist_directory=PERSIST_DIR\n",
    "    )\n",
    "    "
   ]
  },
  {
   "cell_type": "markdown",
   "metadata": {},
   "source": [
    "# Define Tool"
   ]
  },
  {
   "cell_type": "code",
   "execution_count": 6,
   "metadata": {},
   "outputs": [
    {
     "name": "stdout",
     "output_type": "stream",
     "text": [
      "time: 453 ms (started: 2025-04-29 14:59:15 +09:00)\n"
     ]
    }
   ],
   "source": [
    "ei_db = Chroma(\n",
    "    embedding_function=embeddings,\n",
    "    collection_name=LAW_NAME_MAPPING.get(\"고용보험법\"),\n",
    "    persist_directory=PERSIST_DIR\n",
    ")\n",
    "\n",
    "ls_db = Chroma(\n",
    "    embedding_function=embeddings,\n",
    "    collection_name=LAW_NAME_MAPPING.get(\"근로기준법\"),\n",
    "    persist_directory=PERSIST_DIR\n",
    ")\n",
    "\n",
    "ge_db = Chroma(\n",
    "    embedding_function=embeddings,\n",
    "    collection_name=LAW_NAME_MAPPING.get(\"남녀고용평등과 일ㆍ가정 양립 지원에 관한 법률\"),\n",
    "    persist_directory=PERSIST_DIR\n",
    ")"
   ]
  },
  {
   "cell_type": "code",
   "execution_count": 7,
   "metadata": {},
   "outputs": [
    {
     "name": "stdout",
     "output_type": "stream",
     "text": [
      "time: 16 ms (started: 2025-04-29 14:59:16 +09:00)\n"
     ]
    }
   ],
   "source": [
    "@tool\n",
    "def search_ei_law(query: str) -> List[Document]:\n",
    "    \"\"\"\n",
    "    Searches the Employment Insurance Act (고용보험법) database for relevant legal articles.\n",
    "\n",
    "    Args:\n",
    "        query (str): A keyword or phrase related to the Employment Insurance Act to search for.\n",
    "\n",
    "    Returns:\n",
    "        List[Document]: \n",
    "            - A list of Document objects containing the most relevant sections.\n",
    "            - If no matching articles are found, returns a Document indicating \"검색 결과가 없습니다.\"\n",
    "\n",
    "    Usage:\n",
    "        Use this tool when you need to retrieve legal information, specific clauses, \n",
    "        or general background knowledge about the Employment Insurance Act.\n",
    "    \"\"\"\n",
    "    docs = ei_db.similarity_search(query, k=2)\n",
    "    return docs if docs else [Document(page_content=\"\", metadata={\"error\": \"검색 결과가 없습니다.\"})]\n",
    "\n",
    "@tool\n",
    "def search_ls_law(query: str) -> List[Document]:\n",
    "    \"\"\"\n",
    "    Searches the Labor Standards Act (근로기준법) database for relevant legal articles.\n",
    "\n",
    "    Args:\n",
    "        query (str): A keyword or phrase related to the Labor Standards Act to search for.\n",
    "\n",
    "    Returns:\n",
    "        List[Document]: \n",
    "            - A list of Document objects containing the most relevant sections.\n",
    "            - If no matching articles are found, returns a Document indicating \"검색 결과가 없습니다.\"\n",
    "\n",
    "    Usage:\n",
    "        Use this tool when you need to retrieve legal information, specific clauses, \n",
    "        or general background knowledge about the Labor Standards Act.\n",
    "    \"\"\"\n",
    "    docs = ls_db.similarity_search(query, k=2)\n",
    "    return docs if docs else [Document(page_content=\"\", metadata={\"error\": \"검색 결과가 없습니다.\"})]\n",
    "\n",
    "@tool\n",
    "def search_ge_law(query: str) -> List[Document]:\n",
    "    \"\"\"\n",
    "    Searches the Gender Equality Employment Act \n",
    "    (남녀고용평등과 일ㆍ가정 양립 지원에 관한 법률) database for relevant legal articles.\n",
    "\n",
    "    Args:\n",
    "        query (str): A keyword or phrase related to the Gender Equality Employment Act to search for.\n",
    "\n",
    "    Returns:\n",
    "        List[Document]: \n",
    "            - A list of Document objects containing the most relevant sections.\n",
    "            - If no matching articles are found, returns a Document indicating \"검색 결과가 없습니다.\"\n",
    "\n",
    "    Usage:\n",
    "        Use this tool when you need to retrieve legal information, specific clauses, \n",
    "        or general background knowledge about the Gender Equality Employment Act.\n",
    "    \"\"\"\n",
    "    docs = ge_db.similarity_search(query, k=2)\n",
    "    return docs if docs else [Document(page_content=\"\", metadata={\"error\": \"검색 결과가 없습니다.\"})]"
   ]
  },
  {
   "cell_type": "markdown",
   "metadata": {},
   "source": [
    "# LangChain Agent"
   ]
  },
  {
   "cell_type": "code",
   "execution_count": 8,
   "metadata": {},
   "outputs": [
    {
     "name": "stdout",
     "output_type": "stream",
     "text": [
      "time: 0 ns (started: 2025-04-29 14:59:16 +09:00)\n"
     ]
    }
   ],
   "source": [
    "agent_prompt = ChatPromptTemplate.from_messages([\n",
    "    (\"system\", dedent(\"\"\"You are an AI legal assistant specializing in Korean labor-related laws.\n",
    "                      Your primary mission is to provide users with accurate, reliable, and contextually appropriate legal information based on three major legislations.\n",
    "                      \n",
    "                      Key guidelines:\n",
    "                      1. For questions related to general labor rights, working conditions, employment contracts, wages, working hours, minimum wage, and termination procedures, use the search_ls_law tool.\n",
    "                        - Related keywords: \"근로시간\", \"연장근로\", \"임금\", \"최저임금\", \"해고\", \"취업규칙\", \"연차휴가\", \"근로계약서\", \"퇴직금\"\n",
    "                        - This tool accesses the Labor Standards Act (근로기준법).\n",
    "                      2. For questions regarding unemployment benefits, employment insurance enrollment, premium payments, claims, eligibility, and job protection during unemployment, use the search_ei_law tool.\n",
    "                        - Related keywords: \"실업급여\", \"고용보험\", \"피보험자\", \"보험료\", \"이직확인서\", \"재취업활동\"\n",
    "                        - This tool accesses the Employment Insurance Act (고용보험법).\n",
    "                      3. For questions involving gender equality at work, maternity and paternity leave, prevention of workplace discrimination, childcare leave, and work-family balance policies, use the search_ge_law tool.\n",
    "                        - Related keywords: \"출산휴가\", \"육아휴직\", \"남녀차별\", \"임신기 근로시간 단축\", \"배우자 출산휴가\", \"가족돌봄휴가\", \"직장 내 성희롱 예방\"\n",
    "                        - This tool accesses the Gender Equality Employment Act (남녀고용평등과 일ㆍ가정 양립 지원에 관한 법률).\n",
    "                      4. If a user's query is ambiguous or covers multiple topics (e.g., \"육아휴직 중 실업급여 수급 가능 여부\"), intelligently select multiple tools, retrieve information from each relevant law, and combine the results into a coherent answer.\n",
    "                      5. If necessary information is missing, politely ask the user to clarify their question to ensure correct tool usage.\n",
    "                      6. Always prioritize delivering clear, concise, and legally accurate information based on the search results.\n",
    "                      7. Simplify legal jargon into plain, user-friendly language unless the user specifically requests detailed legal references.\n",
    "                      8. Maintain a professional, supportive, and trustworthy tone. Users may be seeking crucial legal guidance, so be respectful, empathetic, and clear.\n",
    "                      9. If no relevant documents are found in the database, explicitly inform the user and suggest further actions if appropriate.\n",
    "                      10. Ensure final responses are natural and conversational, maintaining a helpful chatbot-like communication style while retaining professional accuracy.\n",
    "                      \n",
    "                      Remember:\n",
    "                        - Understand the scope of each tool precisely.\n",
    "                        - Match the user's query keywords to the right tool(s).\n",
    "                        - Combine tool results effectively for complex questions.\n",
    "                        - Always aim to deliver the most complete, accurate, and user-centered answers possible.\n",
    "                    \"\"\")),\n",
    "    MessagesPlaceholder(variable_name=\"chat_history\", optional=True),\n",
    "    (\"human\", \"{input}\"),\n",
    "    MessagesPlaceholder(variable_name=\"agent_scratchpad\"),\n",
    "])"
   ]
  },
  {
   "cell_type": "code",
   "execution_count": 9,
   "metadata": {},
   "outputs": [
    {
     "name": "stdout",
     "output_type": "stream",
     "text": [
      "time: 1.98 s (started: 2025-04-29 14:59:16 +09:00)\n"
     ]
    }
   ],
   "source": [
    "llm = ChatOpenAI(model=\"gpt-4o-mini\", temperature=0)\n",
    "\n",
    "tools = [search_ls_law, search_ei_law, search_ge_law]\n",
    "agent = create_tool_calling_agent(llm, tools, agent_prompt)\n",
    "\n",
    "agent_executor = AgentExecutor(agent=agent, tools=tools, verbose=True)"
   ]
  },
  {
   "cell_type": "code",
   "execution_count": 10,
   "metadata": {},
   "outputs": [
    {
     "name": "stdout",
     "output_type": "stream",
     "text": [
      "\n",
      "\n",
      "\u001b[1m> Entering new AgentExecutor chain...\u001b[0m\n",
      "\u001b[32;1m\u001b[1;3m\n",
      "Invoking: `search_ge_law` with `{'query': '육아휴직'}`\n",
      "\n",
      "\n",
      "\u001b[0m\u001b[38;5;200m\u001b[1;3m[Document(metadata={'article': '제19조의6(직장복귀를 위한 사업주의 지원)', 'chapter': '제3장 모성 보호 <개정 2007. 12. 21.>', 'name': '남녀고용평등과 일ㆍ가정 양립 지원에 관한 법률', 'section': '조문', 'source': '../data\\\\남녀고용평등과 일ㆍ가정 양립 지원에 관한 법률(법률)(제20521호)(20250223).pdf'}, page_content='[법률정보]\\n다음 조항은 남녀고용평등과 일ㆍ가정 양립 지원에 관한 법률 제3장 모성 보호 <개정 2007. 12. 21.> 조문에서 발췌한 내용입니다.\\n\\n[법률조항]\\n제19조의6(직장복귀를 위한 사업주의 지원)\\n사업주는 이 법에 따라 육아휴직 중인 근로자에 대한 직업능력 개발 및 향상을 위하여 노력하여야 하고 출산전후휴가, 육아휴직 또는 육아기 근로시간 단축을 마치고 복귀하는 근로자가 쉽게직장생활에 적응할 수 있도록 지원하여야 한다. <개정 2012. 2. 1.>[본조신설 2007. 12. 21.]'), Document(metadata={'article': '제19조의6(직장복귀를 위한 사업주의 지원)', 'chapter': '제3장 모성 보호 <개정 2007. 12. 21.>', 'name': '남녀고용평등과 일ㆍ가정 양립 지원에 관한 법률', 'section': '조문', 'source': '../data\\\\남녀고용평등과 일ㆍ가정 양립 지원에 관한 법률(법률)(제20521호)(20250223).pdf'}, page_content='[법률정보]\\n다음 조항은 남녀고용평등과 일ㆍ가정 양립 지원에 관한 법률 제3장 모성 보호 <개정 2007. 12. 21.> 조문에서 발췌한 내용입니다.\\n\\n[법률조항]\\n제19조의6(직장복귀를 위한 사업주의 지원)\\n사업주는 이 법에 따라 육아휴직 중인 근로자에 대한 직업능력 개발 및 향상을 위하여 노력하여야 하고 출산전후휴가, 육아휴직 또는 육아기 근로시간 단축을 마치고 복귀하는 근로자가 쉽게직장생활에 적응할 수 있도록 지원하여야 한다. <개정 2012. 2. 1.>[본조신설 2007. 12. 21.]')]\u001b[0m\u001b[32;1m\u001b[1;3m육아휴직을 신청할 수 있는 조건은 다음과 같습니다:\n",
      "\n",
      "1. **근로자 자격**: 육아휴직은 근로자가 자녀를 양육하기 위해 신청할 수 있는 권리입니다. 일반적으로, 자녀가 만 8세 이하이거나 초등학교 2학년 이하인 경우에 해당합니다.\n",
      "\n",
      "2. **근속 기간**: 육아휴직을 신청하기 위해서는 일정 기간 이상 근무해야 할 수 있습니다. 보통 6개월 이상의 근속이 요구됩니다.\n",
      "\n",
      "3. **신청 절차**: 육아휴직을 신청하려면, 고용주에게 사전에 신청서를 제출해야 하며, 필요한 서류를 함께 제출해야 합니다.\n",
      "\n",
      "4. **사업주의 지원**: 사업주는 육아휴직 중인 근로자가 직장에 복귀할 수 있도록 지원해야 하며, 직업능력 개발 및 향상을 위한 노력을 해야 합니다.\n",
      "\n",
      "이 외에도 구체적인 조건이나 절차는 고용주나 회사의 취업규칙에 따라 다를 수 있으므로, 해당 사항을 확인하는 것이 중요합니다. 추가적인 질문이 있으시면 언제든지 말씀해 주세요!\u001b[0m\n",
      "\n",
      "\u001b[1m> Finished chain.\u001b[0m\n",
      "time: 5.89 s (started: 2025-04-29 14:59:18 +09:00)\n"
     ]
    }
   ],
   "source": [
    "query = \"육아휴직을 신청할 수 있는 조건이 있나요?\"\n",
    "agent_response = agent_executor.invoke({\"input\": query})"
   ]
  },
  {
   "cell_type": "code",
   "execution_count": 11,
   "metadata": {},
   "outputs": [
    {
     "name": "stdout",
     "output_type": "stream",
     "text": [
      "{'input': '육아휴직을 신청할 수 있는 조건이 있나요?',\n",
      " 'output': '육아휴직을 신청할 수 있는 조건은 다음과 같습니다:\\n'\n",
      "           '\\n'\n",
      "           '1. **근로자 자격**: 육아휴직은 근로자가 자녀를 양육하기 위해 신청할 수 있는 권리입니다. 일반적으로, 자녀가 만 '\n",
      "           '8세 이하이거나 초등학교 2학년 이하인 경우에 해당합니다.\\n'\n",
      "           '\\n'\n",
      "           '2. **근속 기간**: 육아휴직을 신청하기 위해서는 일정 기간 이상 근무해야 할 수 있습니다. 보통 6개월 이상의 '\n",
      "           '근속이 요구됩니다.\\n'\n",
      "           '\\n'\n",
      "           '3. **신청 절차**: 육아휴직을 신청하려면, 고용주에게 사전에 신청서를 제출해야 하며, 필요한 서류를 함께 제출해야 '\n",
      "           '합니다.\\n'\n",
      "           '\\n'\n",
      "           '4. **사업주의 지원**: 사업주는 육아휴직 중인 근로자가 직장에 복귀할 수 있도록 지원해야 하며, 직업능력 개발 및 '\n",
      "           '향상을 위한 노력을 해야 합니다.\\n'\n",
      "           '\\n'\n",
      "           '이 외에도 구체적인 조건이나 절차는 고용주나 회사의 취업규칙에 따라 다를 수 있으므로, 해당 사항을 확인하는 것이 '\n",
      "           '중요합니다. 추가적인 질문이 있으시면 언제든지 말씀해 주세요!'}\n",
      "time: 0 ns (started: 2025-04-29 14:59:24 +09:00)\n"
     ]
    }
   ],
   "source": [
    "pprint(agent_response)"
   ]
  },
  {
   "cell_type": "markdown",
   "metadata": {},
   "source": [
    "# Gradio Demo"
   ]
  },
  {
   "cell_type": "code",
   "execution_count": 12,
   "metadata": {},
   "outputs": [
    {
     "name": "stdout",
     "output_type": "stream",
     "text": [
      "* Running on local URL:  http://127.0.0.1:7860\n",
      "* Running on public URL: https://0953399e9bfc2a26da.gradio.live\n",
      "\n",
      "This share link expires in 1 week. For free permanent hosting and GPU upgrades, run `gradio deploy` from the terminal in the working directory to deploy to Hugging Face Spaces (https://huggingface.co/spaces)\n"
     ]
    },
    {
     "data": {
      "text/html": [
       "<div><iframe src=\"https://0953399e9bfc2a26da.gradio.live\" width=\"100%\" height=\"500\" allow=\"autoplay; camera; microphone; clipboard-read; clipboard-write;\" frameborder=\"0\" allowfullscreen></iframe></div>"
      ],
      "text/plain": [
       "<IPython.core.display.HTML object>"
      ]
     },
     "metadata": {},
     "output_type": "display_data"
    },
    {
     "data": {
      "text/plain": []
     },
     "execution_count": 12,
     "metadata": {},
     "output_type": "execute_result"
    },
    {
     "name": "stdout",
     "output_type": "stream",
     "text": [
      "time: 5.25 s (started: 2025-04-29 14:59:24 +09:00)\n"
     ]
    }
   ],
   "source": [
    "ERROR_RESPONSES = [\n",
    "    \"⚠️ 죄송합니다. 다시 시도해 주세요.\",\n",
    "    \"⚠️ 문제가 발생했습니다. 곧 복구하겠습니다.\",\n",
    "    \"⚠️ 시스템이 응답하지 않았어요. 잠시 후 재시도 바랍니다.\"\n",
    "]\n",
    "\n",
    "# 대화 이력을 LangChain 형식으로 변환\n",
    "def build_chat_history(history: List[Tuple[str, str]]) -> List:\n",
    "    chat_history = []\n",
    "    for human, ai in history:\n",
    "        chat_history.append(HumanMessage(content=human))\n",
    "        chat_history.append(AIMessage(content=ai))\n",
    "    return chat_history\n",
    "    \n",
    "# 에이전트 호출 및 응답 처리\n",
    "def answer_invoke(message: str, history: List[Tuple[str, str]]) -> str:\n",
    "    try:\n",
    "        chat_history = build_chat_history(history)[-2:]\n",
    "        print(f\"[DEBUG] chat_history: {chat_history}\")\n",
    "\n",
    "        response = agent_executor.invoke({\n",
    "            \"input\": message,\n",
    "            \"chat_history\": chat_history,\n",
    "        })\n",
    "        print(f\"[DEBUG] response: {response}\")\n",
    "\n",
    "        return response.get(\"output\", \"응답이 없습니다.\")\n",
    "    except Exception as e:\n",
    "        print(f\"[Error] {e}\")\n",
    "        traceback.print_exc()  # <-- 에러 위치까지 같이 출력\n",
    "        return random.choice(ERROR_RESPONSES)\n",
    "\n",
    "    \n",
    "# 예제 질문 리스트\n",
    "example_questions = [\n",
    "    \"육아휴직을 신청할 수 있는 조건이 있나요?\",\n",
    "    \"퇴직금은 언제 받을 수 있나요?\",\n",
    "    \"출산휴가 중 실업급여를 받을 수 있나요?\"\n",
    "]\n",
    "\n",
    "# Gradio 인터페이스 생성\n",
    "demo = gr.ChatInterface(\n",
    "    fn=answer_invoke,\n",
    "    title=\"육아휴직 관련 AI 어시스턴트\",\n",
    "    description=\"근로기준법, 고용보험법, 남녀고용평등법 관련 질문에 답변해 드립니다.\",\n",
    "    examples=example_questions,\n",
    "    theme=gr.themes.Soft(),\n",
    ")\n",
    "\n",
    "demo.launch(share=True)"
   ]
  },
  {
   "cell_type": "code",
   "execution_count": 13,
   "metadata": {},
   "outputs": [
    {
     "name": "stdout",
     "output_type": "stream",
     "text": [
      "Closing server running on port: 7860\n",
      "time: 140 ms (started: 2025-04-29 14:59:29 +09:00)\n"
     ]
    }
   ],
   "source": [
    "demo.close()"
   ]
  }
 ],
 "metadata": {
  "kernelspec": {
   "display_name": "rag-chatbot-fMiVejxw-py3.12",
   "language": "python",
   "name": "python3"
  },
  "language_info": {
   "codemirror_mode": {
    "name": "ipython",
    "version": 3
   },
   "file_extension": ".py",
   "mimetype": "text/x-python",
   "name": "python",
   "nbconvert_exporter": "python",
   "pygments_lexer": "ipython3",
   "version": "3.12.0"
  }
 },
 "nbformat": 4,
 "nbformat_minor": 2
}
