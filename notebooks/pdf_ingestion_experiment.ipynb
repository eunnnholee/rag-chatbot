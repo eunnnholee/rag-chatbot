{
 "cells": [
  {
   "cell_type": "markdown",
   "metadata": {},
   "source": [
    "# 육아휴직 정책 PDF → RAG 데이터 실험 notebook"
   ]
  },
  {
   "cell_type": "markdown",
   "metadata": {},
   "source": [
    "## pytesseract 라이브러리"
   ]
  },
  {
   "cell_type": "markdown",
   "metadata": {},
   "source": [
    "### 환경 설정"
   ]
  },
  {
   "cell_type": "code",
   "execution_count": 2,
   "metadata": {},
   "outputs": [],
   "source": [
    "import os\n",
    "import fitz\n",
    "import cv2\n",
    "import matplotlib.pyplot as plt\n",
    "import pytesseract\n",
    "pytesseract.pytesseract.tesseract_cmd = r\"C:\\Program Files\\Tesseract-OCR\\tesseract.exe\""
   ]
  },
  {
   "cell_type": "markdown",
   "metadata": {},
   "source": [
    "### pytesseract 이미지 추출 및 OCR 실험"
   ]
  },
  {
   "cell_type": "code",
   "execution_count": 3,
   "metadata": {},
   "outputs": [],
   "source": [
    "PDF_FILE = \"../data/정책브리핑_250430.pdf\"\n",
    "# PDF_FILE = \"../data/정책브리핑_250513.pdf\""
   ]
  },
  {
   "cell_type": "code",
   "execution_count": 4,
   "metadata": {},
   "outputs": [],
   "source": [
    "doc = fitz.open(PDF_FILE)"
   ]
  },
  {
   "cell_type": "markdown",
   "metadata": {},
   "source": [
    "### get_page_images + pytesseract OCR"
   ]
  },
  {
   "cell_type": "code",
   "execution_count": 5,
   "metadata": {},
   "outputs": [
    {
     "data": {
      "text/plain": [
       "2"
      ]
     },
     "execution_count": 5,
     "metadata": {},
     "output_type": "execute_result"
    }
   ],
   "source": [
    "doc.page_count"
   ]
  },
  {
   "cell_type": "code",
   "execution_count": 17,
   "metadata": {},
   "outputs": [
    {
     "data": {
      "text/plain": [
       "[(4, 0, 110, 43, 8, 'ICCBased', '', 'X4', 'FlateDecode'),\n",
       " (72, 0, 890, 327, 8, 'ICCBased', '', 'X72', 'FlateDecode'),\n",
       " (73, 0, 583, 312, 8, 'ICCBased', '', 'X73', 'FlateDecode')]"
      ]
     },
     "execution_count": 17,
     "metadata": {},
     "output_type": "execute_result"
    }
   ],
   "source": [
    "doc.get_page_images(0)"
   ]
  },
  {
   "cell_type": "code",
   "execution_count": 21,
   "metadata": {},
   "outputs": [
    {
     "data": {
      "text/plain": [
       "'기사인쇄하기\\n[K-희망사다리] 부모 함께 육아휴직제\\n▲ 지원대상\\n· 생후 18개월 이내 자녀가 있고 부모 모두가 육아휴직을 사용하는 경우\\n· 「고용보험법」상 고용보험 피보험단위기간 180일 이상 충족 필요\\n※ 공무원이나 사립학교 교원은 대상 아님\\n▲ 지원내용\\n· 육아휴직 첫 6개월에 대해 육아휴직급여를 통상임금의 100% 지원\\n2025.04.30\\n문화체육관광부 국민소통실\\n25. 5. 13. 오후 4:38\\n정책브리핑 | 기사인쇄하기\\nhttps://www.korea.kr/common/searchPrint.do\\n1/2\\n'"
      ]
     },
     "execution_count": 21,
     "metadata": {},
     "output_type": "execute_result"
    }
   ],
   "source": [
    "doc.get_page_text(0)"
   ]
  },
  {
   "cell_type": "code",
   "execution_count": 6,
   "metadata": {},
   "outputs": [
    {
     "name": "stdout",
     "output_type": "stream",
     "text": [
      "[Image 4] OCR result:\n",
      "\n",
      "\n",
      "[Image 72] OCR result:\n",
      "『40.2\n",
      "\n",
      "함께하는\n",
      "순간\n",
      "더커지는\n",
      "행복\n",
      "\n",
      ": 가족-여성\n",
      "\n",
      "생애주기별 국민생활 서비스\n",
      "\n",
      "모 함께 육아휴직제\n",
      "\n",
      "생후 18개월 이내 자녀가 있다면 부모가 함께 육아를 해요.\n",
      "\n",
      " 고용노동부 고객상담센터\n",
      "1350\n",
      "\n",
      "\n",
      "\n",
      "[Image 73] OCR result:\n",
      "육아휴직기간(부모공통)        지급 상한액              지급기준\n",
      "\n",
      "# 6개월+옷 6개월             각각월 450만원 | 동상임의 100%\n",
      "# 매월 + 옷 5개월 .  |각각월400만원\n",
      "#4개월+%4개월 | 각각월350만원\n",
      "#3개월+%3가월 . | 각각월300만원 ㆍ\n",
      "팔2개월+ 2개월 . ㅣ 각각월250만원\n",
      "\n",
      "롤1개월+1개월 . | 각각월 250만원\n",
      "\n",
      "\n",
      "\n"
     ]
    }
   ],
   "source": [
    "for page in range(doc.page_count):\n",
    "    for img in doc.get_page_images(page):\n",
    "        # 무조건 첫 번째 이미지는 \"대한민국 정책 브리핑\" 로고이므로 제외.\n",
    "        xref = img[0] # 이미지의 내부 cross-reference 값\n",
    "        base_image = doc.extract_image(xref)\n",
    "        image_bytes = base_image[\"image\"]\n",
    "        img_ext = base_image[\"ext\"]  # png, jpeg 등\n",
    "        \n",
    "        # 이미지 저장\n",
    "        with open(f\"image_{xref}.{img_ext}\", \"wb\") as f:\n",
    "            f.write(image_bytes)\n",
    "\n",
    "        # 이미지로 pytesseract OCR\n",
    "        from PIL import Image\n",
    "        from io import BytesIO\n",
    "        img = Image.open(BytesIO(image_bytes))\n",
    "        img.show()\n",
    "        text = pytesseract.image_to_string(img, lang=\"kor\")\n",
    "        print(f\"[Image {xref}] OCR result:\\n{text}\\n\")\n"
   ]
  },
  {
   "cell_type": "markdown",
   "metadata": {},
   "source": [
    "### get_page_pixmap + pytesseract OCR"
   ]
  },
  {
   "cell_type": "code",
   "execution_count": 7,
   "metadata": {},
   "outputs": [],
   "source": [
    "doc.get_page_pixmap(0).save(\"page_0.png\")"
   ]
  },
  {
   "cell_type": "code",
   "execution_count": 8,
   "metadata": {},
   "outputs": [
    {
     "data": {
      "text/plain": [
       "True"
      ]
     },
     "execution_count": 8,
     "metadata": {},
     "output_type": "execute_result"
    }
   ],
   "source": [
    "os.path.isfile(\"page_0.png\")\n"
   ]
  },
  {
   "cell_type": "code",
   "execution_count": 9,
   "metadata": {},
   "outputs": [
    {
     "data": {
      "image/png": "[encoded data removed]",
      "text/plain": [
       "<Figure size 640x480 with 1 Axes>"
      ]
     },
     "metadata": {},
     "output_type": "display_data"
    }
   ],
   "source": [
    "image = cv2.imread(\"page_0.png\")\n",
    "rgb_image = cv2.cvtColor(image, cv2.COLOR_BGR2RGB)\n",
    "plt.imshow(rgb_image)\n",
    "plt.show()\n"
   ]
  },
  {
   "cell_type": "code",
   "execution_count": 10,
   "metadata": {},
   "outputs": [
    {
     "name": "stdout",
     "output_type": "stream",
     "text": [
      "그 오514.                                                     벼리 | 71서기\n",
      "\n",
      "기사인쇄하기                                                     저책브미핑\n",
      "\n",
      "[<희망사다리] 부모 함께 육아휴직제\n",
      "\n",
      "생매주기별 국민생활 서비스\n",
      "\n",
      "부모함께육아류직제 \"5\n",
      "\n",
      "생후 18개월 이내 자녀가 있다면 부모가 함께 육아를 해요.\n",
      "\n",
      "소 지원대상\n",
      "\n",
      "- 생후 18개월 이내 자녀가 있고 부모 모두가 육아휴직을 사용하는 경우\n",
      "- 「고용보혐법」 상 고용보험 피보험단위기간 180일 이상 충족 필요\n",
      " 공무원이나 사립학교 교원은 대상 아님\n",
      "\n",
      "소 지원내용\n",
      "\n",
      "ㆍ 육아휴직 첫 6개월에 대해 육아휴직급여를 통상임금의 1009%지원\n",
      "\n",
      "육아휴직기간(부모공통)      지급 상한액          지급기준\n",
      "\n",
      "총 6개월 +《 6개월            각각 월 450만원        통상임금의 100%\n",
      "총 5개월 + 5개월     각각월 400만원\n",
      "\n",
      ". 4개월 + 4개월 각각월 350만원\n",
      "\n",
      ". 3개월 +*% 3개월     | 각각월 300만원\n",
      "\n",
      "총 2개월 + % 2개월     | 각가월250만원\n",
      "\n",
      ". 1개월 + 1개월      | 각가월250만원\n",
      "\n",
      "개0어야02체000902다시.\n",
      "\n",
      "\n"
     ]
    }
   ],
   "source": [
    "text = pytesseract.image_to_string(rgb_image, lang=\"kor\")\n",
    "print(text)\n"
   ]
  },
  {
   "cell_type": "markdown",
   "metadata": {},
   "source": [
    "## EasyOCR 라이브러리"
   ]
  },
  {
   "cell_type": "code",
   "execution_count": 11,
   "metadata": {},
   "outputs": [],
   "source": [
    "import easyocr"
   ]
  },
  {
   "cell_type": "code",
   "execution_count": 12,
   "metadata": {},
   "outputs": [
    {
     "name": "stderr",
     "output_type": "stream",
     "text": [
      "Neither CUDA nor MPS are available - defaulting to CPU. Note: This module is much faster with a GPU.\n",
      "c:\\Users\\Sangjin\\AppData\\Local\\pypoetry\\Cache\\virtualenvs\\rag-chatbot-fMiVejxw-py3.12\\Lib\\site-packages\\torch\\utils\\data\\dataloader.py:665: UserWarning: 'pin_memory' argument is set as true but no accelerator is found, then device pinned memory won't be used.\n",
      "  warnings.warn(warn_msg)\n"
     ]
    },
    {
     "data": {
      "text/plain": [
       "[([[np.int32(260), np.int32(22)],\n",
       "   [np.int32(360), np.int32(22)],\n",
       "   [np.int32(360), np.int32(52)],\n",
       "   [np.int32(260), np.int32(52)]],\n",
       "  '고용노동부',\n",
       "  np.float64(0.9969372570687219)),\n",
       " ([[np.int32(64), np.int32(81)],\n",
       "   [np.int32(494), np.int32(81)],\n",
       "   [np.int32(494), np.int32(144)],\n",
       "   [np.int32(64), np.int32(144)]],\n",
       "  '출산움이 고용안정 지원',\n",
       "  np.float64(0.4142239533223553)),\n",
       " ([[np.int32(79), np.int32(199)],\n",
       "   [np.int32(221), np.int32(199)],\n",
       "   [np.int32(221), np.int32(219)],\n",
       "   [np.int32(79), np.int32(219)]],\n",
       "  '육아루직슬 준 사업주도',\n",
       "  np.float64(0.12859018418491378)),\n",
       " ([[np.int32(75), np.int32(219)],\n",
       "   [np.int32(227), np.int32(219)],\n",
       "   [np.int32(227), np.int32(239)],\n",
       "   [np.int32(75), np.int32(239)]],\n",
       "  '지원S받3수있다고요?',\n",
       "  np.float64(0.23333392006323714)),\n",
       " ([[np.int32(433), np.int32(233)],\n",
       "   [np.int32(473), np.int32(233)],\n",
       "   [np.int32(473), np.int32(253)],\n",
       "   [np.int32(433), np.int32(253)]],\n",
       "  'VYESI',\n",
       "  np.float64(0.2661500835099899)),\n",
       " ([[np.int32(352), np.int32(474)],\n",
       "   [np.int32(448), np.int32(474)],\n",
       "   [np.int32(448), np.int32(506)],\n",
       "   [np.int32(352), np.int32(506)]],\n",
       "  '지금바로',\n",
       "  np.float64(0.9868218898773193)),\n",
       " ([[np.int32(354), np.int32(502)],\n",
       "   [np.int32(448), np.int32(502)],\n",
       "   [np.int32(448), np.int32(532)],\n",
       "   [np.int32(354), np.int32(532)]],\n",
       "  '확인하기',\n",
       "  np.float64(0.5818585531846141))]"
      ]
     },
     "execution_count": 12,
     "metadata": {},
     "output_type": "execute_result"
    },
    {
     "ename": "",
     "evalue": "",
     "output_type": "error",
     "traceback": [
      "\u001b[1;31mThe Kernel crashed while executing code in the current cell or a previous cell. \n",
      "\u001b[1;31mPlease review the code in the cell(s) to identify a possible cause of the failure. \n",
      "\u001b[1;31mClick <a href='https://aka.ms/vscodeJupyterKernelCrash'>here</a> for more info. \n",
      "\u001b[1;31mView Jupyter <a href='command:jupyter.viewOutput'>log</a> for further details."
     ]
    }
   ],
   "source": [
    "reader = easyocr.Reader([\"ko\", \"en\"])\n",
    "results = reader.readtext('image_30.jpeg')\n",
    "results"
   ]
  },
  {
   "cell_type": "markdown",
   "metadata": {},
   "source": [
    "## pororo 라이브러리"
   ]
  },
  {
   "cell_type": "markdown",
   "metadata": {},
   "source": [
    "https://github.com/kakaobrain/pororo\n",
    "\n",
    "pororo 라이브러리는 2022년에 아카이빙 되었고, torch version이 1.6이어야 함.\n",
    "\n",
    "따라서, 현재 버전의 torch를 사용하려면 1.6 버전으로 다운그레이드 해야 함.\n",
    "\n",
    "한국어 성능이 좋다고는 알려졌는데, 일단 후순위로 미뤄두고 싶음..\n",
    "\n"
   ]
  },
  {
   "cell_type": "code",
   "execution_count": 9,
   "metadata": {},
   "outputs": [],
   "source": [
    "import torch\n",
    "import torchvision\n",
    "import cv2"
   ]
  },
  {
   "cell_type": "code",
   "execution_count": 19,
   "metadata": {},
   "outputs": [
    {
     "ename": "ModuleNotFoundError",
     "evalue": "No module named 'pororo'",
     "output_type": "error",
     "traceback": [
      "\u001b[31m---------------------------------------------------------------------------\u001b[39m",
      "\u001b[31mModuleNotFoundError\u001b[39m                       Traceback (most recent call last)",
      "\u001b[36mCell\u001b[39m\u001b[36m \u001b[39m\u001b[32mIn[19]\u001b[39m\u001b[32m, line 1\u001b[39m\n\u001b[32m----> \u001b[39m\u001b[32m1\u001b[39m \u001b[38;5;28;01mfrom\u001b[39;00m\u001b[38;5;250m \u001b[39m\u001b[34;01mpororo\u001b[39;00m\u001b[38;5;250m \u001b[39m\u001b[38;5;28;01mimport\u001b[39;00m Pororo\n",
      "\u001b[31mModuleNotFoundError\u001b[39m: No module named 'pororo'"
     ]
    }
   ],
   "source": [
    "from pororo import Pororo"
   ]
  },
  {
   "cell_type": "markdown",
   "metadata": {},
   "source": [
    "## Upstage Document Parse "
   ]
  },
  {
   "cell_type": "markdown",
   "metadata": {},
   "source": [
    "https://www.upstage.ai/products/document-parse?v=1\n"
   ]
  },
  {
   "cell_type": "markdown",
   "metadata": {},
   "source": [
    "아래와 같은 방식으로 사용할 수 있음.\n",
    "\n",
    "따라서, 위 `fitz(PyMuPDF)` 라이브러리를 이용하여\n",
    "- 텍스트는 PyMuPDF의 `.get_page_text()` 메서드를 활용하여 추출할 수 있음.\n",
    "- 이미지만 `UpstageDocumentParseLoader` 라이브러리를 활용하여 추출.\n",
    "\n",
    "또는, 굳이 분리하지 않고 PDF 파일 자체를 호출해도 되지 않을까..?\n",
    "\n",
    "but, 문제가 될 만한 요소\n",
    "1. 가격(Pay-as-you-go)\n",
    "   - Document Parse(Convert complex documents to LLM-readable formats): $0.01/page\n",
    "   - Document OCR(Extract all text from any document): $0.0015/page \n",
    "2. LLM 방식은 선호하지 않았다고 생각했음."
   ]
  },
  {
   "cell_type": "code",
   "execution_count": null,
   "metadata": {},
   "outputs": [],
   "source": [
    "from langchain_upstage import UpstageDocumentParseLoader\n",
    "loader = UpstageDocumentParseLoader(\"file_path\", ocr=\"force\")"
   ]
  }
 ],
 "metadata": {
  "kernelspec": {
   "display_name": "rag-chatbot-fMiVejxw-py3.12",
   "language": "python",
   "name": "python3"
  },
  "language_info": {
   "codemirror_mode": {
    "name": "ipython",
    "version": 3
   },
   "file_extension": ".py",
   "mimetype": "text/x-python",
   "name": "python",
   "nbconvert_exporter": "python",
   "pygments_lexer": "ipython3",
   "version": "3.12.0"
  }
 },
 "nbformat": 4,
 "nbformat_minor": 2
}
