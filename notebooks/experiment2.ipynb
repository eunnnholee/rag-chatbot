{
 "cells": [
  {
   "cell_type": "markdown",
   "metadata": {},
   "source": [
    "# Load Library"
   ]
  },
  {
   "cell_type": "code",
   "execution_count": 59,
   "metadata": {},
   "outputs": [
    {
     "name": "stdout",
     "output_type": "stream",
     "text": [
      "time: 0 ns (started: 2025-05-10 12:21:25 +09:00)\n"
     ]
    }
   ],
   "source": [
    "import logging\n",
    "import os\n",
    "import random\n",
    "import re\n",
    "import traceback\n",
    "import warnings\n",
    "from glob import glob\n",
    "from pprint import pprint\n",
    "from textwrap import dedent\n",
    "from typing import Annotated, List, Literal, Optional, Tuple, TypedDict\n",
    "\n",
    "import gradio as gr\n",
    "from dotenv import load_dotenv\n",
    "from langchain.agents import AgentExecutor, create_tool_calling_agent\n",
    "from langchain_chroma import Chroma\n",
    "from langchain_community.document_loaders import PyPDFLoader\n",
    "from langchain_community.vectorstores import Chroma\n",
    "from langchain_core.documents import Document\n",
    "from langchain_core.messages import AIMessage, HumanMessage\n",
    "from langchain_core.prompts import ChatPromptTemplate, MessagesPlaceholder\n",
    "from langchain_core.tools import tool\n",
    "from langchain_openai import ChatOpenAI, OpenAIEmbeddings\n",
    "from langgraph.graph import END, START, StateGraph\n",
    "from langgraph.graph.message import add_messages\n",
    "from pydantic import BaseModel, Field\n",
    "\n",
    "warnings.filterwarnings(\"ignore\")\n",
    "\n",
    "load_dotenv()\n",
    "\n",
    "%reload_ext autotime"
   ]
  },
  {
   "cell_type": "code",
   "execution_count": 2,
   "metadata": {},
   "outputs": [
    {
     "name": "stdout",
     "output_type": "stream",
     "text": [
      "time: 0 ns (started: 2025-05-10 10:38:02 +09:00)\n"
     ]
    }
   ],
   "source": [
    "DATA_DIR = '../data'\n",
    "PERSIST_DIR = \"./chroma_db\"\n",
    "\n",
    "# 법률 이름 매핑 딕셔너리\n",
    "LAW_NAME_MAPPING = {\n",
    "    \"고용보험법\": \"employment_insurance_act\",\n",
    "    \"근로기준법\": \"labor_standards_act\",\n",
    "    \"남녀고용평등과 일ㆍ가정 양립 지원에 관한 법률\": \"gender_equality_employment_act\",\n",
    "}"
   ]
  },
  {
   "cell_type": "markdown",
   "metadata": {},
   "source": [
    "# Define Function"
   ]
  },
  {
   "cell_type": "code",
   "execution_count": 3,
   "metadata": {},
   "outputs": [
    {
     "name": "stdout",
     "output_type": "stream",
     "text": [
      "time: 0 ns (started: 2025-05-10 10:38:02 +09:00)\n"
     ]
    }
   ],
   "source": [
    "def split_articles(lines):\n",
    "    \"\"\"\n",
    "    조문 본문에서 개행으로 인한 단어 분리를 방지하기 위해\n",
    "    줄 간 공백 없이 연결한다. 조문은 '제X조(제목)' 형식으로 시작한다.\n",
    "    \"\"\"\n",
    "    # 조문을 저장할 리스트\n",
    "    articles = []\n",
    "    # 현재 처리 중인 조문의 제목\n",
    "    current_title = None  \n",
    "    # 현재 처리 중인 조문의 내용\n",
    "    current_content = []\n",
    "\n",
    "    # '제X조(제목)' 형식을 찾기 위한 정규표현식 패턴\n",
    "    title_pattern = re.compile(r'^(제\\d+조(?:의\\d+)?\\([^)]+\\))')\n",
    "\n",
    "    # 각 줄을 순회하며 처리\n",
    "    for line in map(str.strip, lines):\n",
    "        if not line:  # 빈 줄 건너뛰기\n",
    "            continue\n",
    "\n",
    "        # 조문 제목 패턴이 매칭되는지 확인\n",
    "        match = title_pattern.match(line)\n",
    "        if match:\n",
    "            # 이전 조문이 있으면 저장\n",
    "            if current_title:\n",
    "                articles.append(f\"{current_title}\\n{''.join(current_content)}\")\n",
    "            # 새로운 조문 시작\n",
    "            current_title = match.group(1)\n",
    "            rest = line[len(current_title):].strip()\n",
    "            current_content = [rest] if rest else []\n",
    "        elif current_title:\n",
    "            # 조문 내용 추가\n",
    "            current_content.append(line)\n",
    "\n",
    "    # 마지막 조문 저장\n",
    "    if current_title:\n",
    "        articles.append(f\"{current_title}\\n{''.join(current_content)}\")\n",
    "\n",
    "    return [a.strip() for a in articles]\n",
    "\n",
    "def parse_law_with_sections(law_text):\n",
    "    \"\"\"\n",
    "    전체 법령 텍스트를 서문, 장, 절, 조문 단위로 구조화하여 파싱한다.\n",
    "    \"\"\"\n",
    "    # 줄바꿈 문자 정규화\n",
    "    law_text = law_text.replace('\\r\\n', '\\n').replace('\\r', '\\n')\n",
    "    lines = map(str.strip, law_text.split('\\n'))\n",
    "\n",
    "    # 파싱 결과를 저장할 딕셔너리\n",
    "    parsed_law = {'서문': '', '장': {}, '부칙': ''}\n",
    "    \n",
    "    # 장과 절을 찾기 위한 정규표현식 패턴\n",
    "    chapter_pattern = re.compile(r'^제\\d+장\\s+\\S+')\n",
    "    section_pattern = re.compile(r'^제\\d+절\\s+\\S+')\n",
    "\n",
    "    # 현재 처리 중인 위치 추적용 변수들\n",
    "    current_chapter = None\n",
    "    current_section = None\n",
    "    chapter_buffer = {}\n",
    "    buffer = []\n",
    "    preamble_done = False\n",
    "\n",
    "    # 각 줄을 순회하며 처리\n",
    "    for i, line in enumerate(lines):\n",
    "        if not line:\n",
    "            continue\n",
    "\n",
    "        # 부칙 처리\n",
    "        if line.startswith(\"부칙\"):\n",
    "            if current_section:\n",
    "                chapter_buffer[current_section] = buffer\n",
    "            elif buffer:\n",
    "                chapter_buffer['조문'] = buffer\n",
    "            if current_chapter:\n",
    "                parsed_law['장'][current_chapter] = {\n",
    "                    k: split_articles(v) for k, v in chapter_buffer.items()\n",
    "                }\n",
    "            parsed_law['부칙'] = '\\n'.join([line] + list(lines)[i+1:]).strip()\n",
    "            break\n",
    "\n",
    "        # 장 처리\n",
    "        if chapter_pattern.match(line):\n",
    "            if not preamble_done:\n",
    "                parsed_law['서문'] = '\\n'.join(buffer).strip()\n",
    "                preamble_done = True\n",
    "            elif current_chapter:\n",
    "                if current_section:\n",
    "                    chapter_buffer[current_section] = buffer\n",
    "                elif buffer:\n",
    "                    chapter_buffer['조문'] = buffer\n",
    "                parsed_law['장'][current_chapter] = {\n",
    "                    k: split_articles(v) for k, v in chapter_buffer.items()\n",
    "                }\n",
    "            current_chapter = line\n",
    "            chapter_buffer = {}\n",
    "            current_section = None\n",
    "            buffer = []\n",
    "            continue\n",
    "\n",
    "        # 절 처리\n",
    "        if section_pattern.match(line):\n",
    "            if current_section:\n",
    "                chapter_buffer[current_section] = buffer\n",
    "            elif buffer:\n",
    "                chapter_buffer['조문'] = buffer\n",
    "            current_section = line\n",
    "            buffer = []\n",
    "            continue\n",
    "\n",
    "        buffer.append(line)\n",
    "\n",
    "    # 마지막 장 저장\n",
    "    if current_chapter:\n",
    "        if current_section:\n",
    "            chapter_buffer[current_section] = buffer\n",
    "        elif buffer:\n",
    "            chapter_buffer['조문'] = buffer\n",
    "        parsed_law['장'][current_chapter] = {\n",
    "            k: split_articles(v) for k, v in chapter_buffer.items()\n",
    "        }\n",
    "\n",
    "    return parsed_law\n",
    "\n",
    "\n",
    "def create_document(pdf_file: str, law_name: str) -> List[Document]:\n",
    "    loader = PyPDFLoader(pdf_file)\n",
    "    pages = loader.load()\n",
    "    \n",
    "    # 푸터 제거용 패턴\n",
    "    footer_pattern = rf\"법제처\\s+\\d+\\s+국가법령정보센터\\s*\\n{law_name}\"\n",
    "    re_footer = re.compile(footer_pattern)\n",
    "    \n",
    "    # 각 페이지에서 푸터 제거\n",
    "    cleaned_pages = []\n",
    "    for p in pages:\n",
    "        text = p.page_content.strip()\n",
    "        cleaned = re_footer.sub('', text)\n",
    "        cleaned_pages.append(cleaned.strip())\n",
    "        \n",
    "    # 전체 문서 텍스트 결합\n",
    "    law_text = \"\\n\".join(cleaned_pages)\n",
    "    \n",
    "    parsed_law = parse_law_with_sections(law_text)\n",
    "    \n",
    "    # Document 객체로 만들기\n",
    "    final_docs = []\n",
    "    \n",
    "    for chapter, sections in parsed_law[\"장\"].items():\n",
    "        for section, articles in sections.items():\n",
    "            for article_text in articles:\n",
    "                # 조문 제목 줄 (예: \"제1조(목적)\")\n",
    "                title_line = article_text.split(\"\\n\", 1)[0]\n",
    "                \n",
    "                # LangChain 문서 metadata 구성\n",
    "                metadata = {\n",
    "                    \"source\": pdf_file,\n",
    "                    \"chapter\": chapter,\n",
    "                    \"section\": section,\n",
    "                    \"name\": law_name,\n",
    "                    \"article\": title_line\n",
    "                }\n",
    "                \n",
    "                # LangChain 문서 본문 구성\n",
    "                content = (\n",
    "                    f\"[법률정보]\\n\"\n",
    "                    f\"다음 조항은 {metadata['name']} {metadata['chapter']} {metadata['section']}에서 발췌한 내용입니다.\\n\\n[법률조항]\\n\"\n",
    "                    f\"{article_text}\"\n",
    "                )\n",
    "\n",
    "                final_docs.append(Document(page_content=content, metadata=metadata))\n",
    "                \n",
    "    return final_docs"
   ]
  },
  {
   "cell_type": "markdown",
   "metadata": {},
   "source": [
    "# Load Raw Documents"
   ]
  },
  {
   "cell_type": "code",
   "execution_count": 4,
   "metadata": {},
   "outputs": [
    {
     "data": {
      "text/plain": [
       "['../data\\\\고용보험법(법률)(제20519호)(20250223).pdf',\n",
       " '../data\\\\근로기준법(법률)(제20520호)(20250223).pdf',\n",
       " '../data\\\\남녀고용평등과 일ㆍ가정 양립 지원에 관한 법률(법률)(제20521호)(20250223).pdf']"
      ]
     },
     "execution_count": 4,
     "metadata": {},
     "output_type": "execute_result"
    },
    {
     "name": "stdout",
     "output_type": "stream",
     "text": [
      "time: 15 ms (started: 2025-05-10 10:38:03 +09:00)\n"
     ]
    }
   ],
   "source": [
    "# pdf 파일 목록을 확인\n",
    "pdf_files = glob(os.path.join(DATA_DIR, '*.pdf'))\n",
    "\n",
    "pdf_files"
   ]
  },
  {
   "cell_type": "markdown",
   "metadata": {},
   "source": [
    "# Create VectorDB"
   ]
  },
  {
   "cell_type": "code",
   "execution_count": 5,
   "metadata": {},
   "outputs": [
    {
     "name": "stdout",
     "output_type": "stream",
     "text": [
      "time: 20.5 s (started: 2025-05-10 10:38:03 +09:00)\n"
     ]
    }
   ],
   "source": [
    "embeddings = OpenAIEmbeddings()\n",
    "\n",
    "for idx, (law_name, collection_name) in enumerate(LAW_NAME_MAPPING.items()):\n",
    "    final_documents = create_document(pdf_file=pdf_files[idx], law_name=law_name)\n",
    "    \n",
    "    Chroma.from_documents(\n",
    "        documents=final_documents,\n",
    "        embedding=embeddings,\n",
    "        collection_name=collection_name,\n",
    "        persist_directory=PERSIST_DIR\n",
    "    )\n",
    "    "
   ]
  },
  {
   "cell_type": "markdown",
   "metadata": {},
   "source": [
    "# Define Tool"
   ]
  },
  {
   "cell_type": "code",
   "execution_count": 6,
   "metadata": {},
   "outputs": [
    {
     "name": "stdout",
     "output_type": "stream",
     "text": [
      "time: 547 ms (started: 2025-05-10 10:38:23 +09:00)\n"
     ]
    }
   ],
   "source": [
    "ei_db = Chroma(\n",
    "    embedding_function=embeddings,\n",
    "    collection_name=LAW_NAME_MAPPING.get(\"고용보험법\"),\n",
    "    persist_directory=PERSIST_DIR\n",
    ")\n",
    "\n",
    "ls_db = Chroma(\n",
    "    embedding_function=embeddings,\n",
    "    collection_name=LAW_NAME_MAPPING.get(\"근로기준법\"),\n",
    "    persist_directory=PERSIST_DIR\n",
    ")\n",
    "\n",
    "ge_db = Chroma(\n",
    "    embedding_function=embeddings,\n",
    "    collection_name=LAW_NAME_MAPPING.get(\"남녀고용평등과 일ㆍ가정 양립 지원에 관한 법률\"),\n",
    "    persist_directory=PERSIST_DIR\n",
    ")"
   ]
  },
  {
   "cell_type": "code",
   "execution_count": 7,
   "metadata": {},
   "outputs": [
    {
     "name": "stdout",
     "output_type": "stream",
     "text": [
      "time: 15 ms (started: 2025-05-10 10:38:24 +09:00)\n"
     ]
    }
   ],
   "source": [
    "@tool\n",
    "def search_ei_law(query: str) -> List[Document]:\n",
    "    \"\"\"\n",
    "    Searches the Employment Insurance Act (고용보험법) database for relevant legal articles.\n",
    "\n",
    "    Args:\n",
    "        query (str): A keyword or phrase related to the Employment Insurance Act to search for.\n",
    "\n",
    "    Returns:\n",
    "        List[Document]: \n",
    "            - A list of Document objects containing the most relevant sections.\n",
    "            - If no matching articles are found, returns a Document indicating \"검색 결과가 없습니다.\"\n",
    "\n",
    "    Usage:\n",
    "        Use this tool when you need to retrieve legal information, specific clauses, \n",
    "        or general background knowledge about the Employment Insurance Act.\n",
    "    \"\"\"\n",
    "    docs = ei_db.similarity_search(query, k=2)\n",
    "    return docs if docs else [Document(page_content=\"\", metadata={\"error\": \"검색 결과가 없습니다.\"})]\n",
    "\n",
    "@tool\n",
    "def search_ls_law(query: str) -> List[Document]:\n",
    "    \"\"\"\n",
    "    Searches the Labor Standards Act (근로기준법) database for relevant legal articles.\n",
    "\n",
    "    Args:\n",
    "        query (str): A keyword or phrase related to the Labor Standards Act to search for.\n",
    "\n",
    "    Returns:\n",
    "        List[Document]: \n",
    "            - A list of Document objects containing the most relevant sections.\n",
    "            - If no matching articles are found, returns a Document indicating \"검색 결과가 없습니다.\"\n",
    "\n",
    "    Usage:\n",
    "        Use this tool when you need to retrieve legal information, specific clauses, \n",
    "        or general background knowledge about the Labor Standards Act.\n",
    "    \"\"\"\n",
    "    docs = ls_db.similarity_search(query, k=2)\n",
    "    return docs if docs else [Document(page_content=\"\", metadata={\"error\": \"검색 결과가 없습니다.\"})]\n",
    "\n",
    "@tool\n",
    "def search_ge_law(query: str) -> List[Document]:\n",
    "    \"\"\"\n",
    "    Searches the Gender Equality Employment Act \n",
    "    (남녀고용평등과 일ㆍ가정 양립 지원에 관한 법률) database for relevant legal articles.\n",
    "\n",
    "    Args:\n",
    "        query (str): A keyword or phrase related to the Gender Equality Employment Act to search for.\n",
    "\n",
    "    Returns:\n",
    "        List[Document]: \n",
    "            - A list of Document objects containing the most relevant sections.\n",
    "            - If no matching articles are found, returns a Document indicating \"검색 결과가 없습니다.\"\n",
    "\n",
    "    Usage:\n",
    "        Use this tool when you need to retrieve legal information, specific clauses, \n",
    "        or general background knowledge about the Gender Equality Employment Act.\n",
    "    \"\"\"\n",
    "    docs = ge_db.similarity_search(query, k=2)\n",
    "    return docs if docs else [Document(page_content=\"\", metadata={\"error\": \"검색 결과가 없습니다.\"})]"
   ]
  },
  {
   "cell_type": "markdown",
   "metadata": {},
   "source": [
    "# LangChain Agent"
   ]
  },
  {
   "cell_type": "code",
   "execution_count": 8,
   "metadata": {},
   "outputs": [
    {
     "name": "stdout",
     "output_type": "stream",
     "text": [
      "time: 16 ms (started: 2025-05-10 10:38:24 +09:00)\n"
     ]
    }
   ],
   "source": [
    "agent_prompt = ChatPromptTemplate.from_messages([\n",
    "    (\"system\", dedent(\"\"\"You are an AI legal assistant specializing in Korean labor-related laws.\n",
    "                      Your primary mission is to provide users with accurate, reliable, and contextually appropriate legal information based on three major legislations.\n",
    "                      \n",
    "                      Key guidelines:\n",
    "                      1. For questions related to general labor rights, working conditions, employment contracts, wages, working hours, minimum wage, and termination procedures, use the search_ls_law tool.\n",
    "                        - Related keywords: \"근로시간\", \"연장근로\", \"임금\", \"최저임금\", \"해고\", \"취업규칙\", \"연차휴가\", \"근로계약서\", \"퇴직금\"\n",
    "                        - This tool accesses the Labor Standards Act (근로기준법).\n",
    "                      2. For questions regarding unemployment benefits, employment insurance enrollment, premium payments, claims, eligibility, and job protection during unemployment, use the search_ei_law tool.\n",
    "                        - Related keywords: \"실업급여\", \"고용보험\", \"피보험자\", \"보험료\", \"이직확인서\", \"재취업활동\"\n",
    "                        - This tool accesses the Employment Insurance Act (고용보험법).\n",
    "                      3. For questions involving gender equality at work, maternity and paternity leave, prevention of workplace discrimination, childcare leave, and work-family balance policies, use the search_ge_law tool.\n",
    "                        - Related keywords: \"출산휴가\", \"육아휴직\", \"남녀차별\", \"임신기 근로시간 단축\", \"배우자 출산휴가\", \"가족돌봄휴가\", \"직장 내 성희롱 예방\"\n",
    "                        - This tool accesses the Gender Equality Employment Act (남녀고용평등과 일ㆍ가정 양립 지원에 관한 법률).\n",
    "                      4. If a user's query is ambiguous or covers multiple topics (e.g., \"육아휴직 중 실업급여 수급 가능 여부\"), intelligently select multiple tools, retrieve information from each relevant law, and combine the results into a coherent answer.\n",
    "                      5. If necessary information is missing, politely ask the user to clarify their question to ensure correct tool usage.\n",
    "                      6. Always prioritize delivering clear, concise, and legally accurate information based on the search results.\n",
    "                      7. Simplify legal jargon into plain, user-friendly language unless the user specifically requests detailed legal references.\n",
    "                      8. Maintain a professional, supportive, and trustworthy tone. Users may be seeking crucial legal guidance, so be respectful, empathetic, and clear.\n",
    "                      9. If no relevant documents are found in the database, explicitly inform the user and suggest further actions if appropriate.\n",
    "                      10. Ensure final responses are natural and conversational, maintaining a helpful chatbot-like communication style while retaining professional accuracy.\n",
    "                      \n",
    "                      Remember:\n",
    "                        - Understand the scope of each tool precisely.\n",
    "                        - Match the user's query keywords to the right tool(s).\n",
    "                        - Combine tool results effectively for complex questions.\n",
    "                        - Always aim to deliver the most complete, accurate, and user-centered answers possible.\n",
    "                    \"\"\")),\n",
    "    MessagesPlaceholder(variable_name=\"chat_history\", optional=True),\n",
    "    (\"human\", \"{input}\"),\n",
    "    MessagesPlaceholder(variable_name=\"agent_scratchpad\"),\n",
    "])"
   ]
  },
  {
   "cell_type": "code",
   "execution_count": 9,
   "metadata": {},
   "outputs": [
    {
     "name": "stdout",
     "output_type": "stream",
     "text": [
      "time: 1.92 s (started: 2025-05-10 10:38:24 +09:00)\n"
     ]
    }
   ],
   "source": [
    "llm = ChatOpenAI(model=\"gpt-4o-mini\", temperature=0)\n",
    "\n",
    "tools = [search_ls_law, search_ei_law, search_ge_law]\n",
    "agent = create_tool_calling_agent(llm, tools, agent_prompt)\n",
    "\n",
    "agent_executor = AgentExecutor(agent=agent, tools=tools, verbose=True)"
   ]
  },
  {
   "cell_type": "code",
   "execution_count": 10,
   "metadata": {},
   "outputs": [
    {
     "name": "stdout",
     "output_type": "stream",
     "text": [
      "\n",
      "\n",
      "\u001b[1m> Entering new AgentExecutor chain...\u001b[0m\n",
      "\u001b[32;1m\u001b[1;3m\n",
      "Invoking: `search_ge_law` with `{'query': '육아휴직'}`\n",
      "\n",
      "\n",
      "\u001b[0m\u001b[38;5;200m\u001b[1;3m[Document(metadata={'article': '제19조의6(직장복귀를 위한 사업주의 지원)', 'chapter': '제3장 모성 보호 <개정 2007. 12. 21.>', 'name': '남녀고용평등과 일ㆍ가정 양립 지원에 관한 법률', 'section': '조문', 'source': '../data\\\\남녀고용평등과 일ㆍ가정 양립 지원에 관한 법률(법률)(제20521호)(20250223).pdf'}, page_content='[법률정보]\\n다음 조항은 남녀고용평등과 일ㆍ가정 양립 지원에 관한 법률 제3장 모성 보호 <개정 2007. 12. 21.> 조문에서 발췌한 내용입니다.\\n\\n[법률조항]\\n제19조의6(직장복귀를 위한 사업주의 지원)\\n사업주는 이 법에 따라 육아휴직 중인 근로자에 대한 직업능력 개발 및 향상을 위하여 노력하여야 하고 출산전후휴가, 육아휴직 또는 육아기 근로시간 단축을 마치고 복귀하는 근로자가 쉽게직장생활에 적응할 수 있도록 지원하여야 한다. <개정 2012. 2. 1.>[본조신설 2007. 12. 21.]'), Document(metadata={'article': '제19조의6(직장복귀를 위한 사업주의 지원)', 'chapter': '제3장 모성 보호 <개정 2007. 12. 21.>', 'name': '남녀고용평등과 일ㆍ가정 양립 지원에 관한 법률', 'section': '조문', 'source': '../data\\\\남녀고용평등과 일ㆍ가정 양립 지원에 관한 법률(법률)(제20521호)(20250223).pdf'}, page_content='[법률정보]\\n다음 조항은 남녀고용평등과 일ㆍ가정 양립 지원에 관한 법률 제3장 모성 보호 <개정 2007. 12. 21.> 조문에서 발췌한 내용입니다.\\n\\n[법률조항]\\n제19조의6(직장복귀를 위한 사업주의 지원)\\n사업주는 이 법에 따라 육아휴직 중인 근로자에 대한 직업능력 개발 및 향상을 위하여 노력하여야 하고 출산전후휴가, 육아휴직 또는 육아기 근로시간 단축을 마치고 복귀하는 근로자가 쉽게직장생활에 적응할 수 있도록 지원하여야 한다. <개정 2012. 2. 1.>[본조신설 2007. 12. 21.]')]\u001b[0m\u001b[32;1m\u001b[1;3m육아휴직을 신청할 수 있는 조건은 다음과 같습니다:\n",
      "\n",
      "1. **근로자 자격**: 육아휴직은 근로자가 자녀를 양육하기 위해 신청할 수 있는 권리입니다. 일반적으로, 자녀가 만 8세 이하이거나 초등학교 2학년 이하인 경우에 해당합니다.\n",
      "\n",
      "2. **근속 기간**: 육아휴직을 신청하기 위해서는 일정 기간 이상 근무해야 할 수 있습니다. 보통 6개월 이상의 근속이 요구됩니다.\n",
      "\n",
      "3. **신청 절차**: 육아휴직을 신청하려면, 고용주에게 사전에 신청서를 제출해야 하며, 필요한 서류를 함께 제출해야 합니다.\n",
      "\n",
      "4. **사업주의 지원**: 사업주는 육아휴직 중인 근로자가 직장에 복귀할 수 있도록 지원해야 하며, 직업능력 개발 및 향상을 위한 노력을 해야 합니다.\n",
      "\n",
      "이 외에도 구체적인 조건이나 절차는 고용주나 회사의 취업규칙에 따라 다를 수 있으므로, 해당 사항을 확인하는 것이 중요합니다. 추가적인 질문이 있으시면 언제든지 말씀해 주세요!\u001b[0m\n",
      "\n",
      "\u001b[1m> Finished chain.\u001b[0m\n",
      "time: 7.06 s (started: 2025-05-10 10:38:26 +09:00)\n"
     ]
    }
   ],
   "source": [
    "query = \"육아휴직을 신청할 수 있는 조건이 있나요?\"\n",
    "agent_response = agent_executor.invoke({\"input\": query})"
   ]
  },
  {
   "cell_type": "code",
   "execution_count": 11,
   "metadata": {},
   "outputs": [
    {
     "name": "stdout",
     "output_type": "stream",
     "text": [
      "{'input': '육아휴직을 신청할 수 있는 조건이 있나요?',\n",
      " 'output': '육아휴직을 신청할 수 있는 조건은 다음과 같습니다:\\n'\n",
      "           '\\n'\n",
      "           '1. **근로자 자격**: 육아휴직은 근로자가 자녀를 양육하기 위해 신청할 수 있는 권리입니다. 일반적으로, 자녀가 만 '\n",
      "           '8세 이하이거나 초등학교 2학년 이하인 경우에 해당합니다.\\n'\n",
      "           '\\n'\n",
      "           '2. **근속 기간**: 육아휴직을 신청하기 위해서는 일정 기간 이상 근무해야 할 수 있습니다. 보통 6개월 이상의 '\n",
      "           '근속이 요구됩니다.\\n'\n",
      "           '\\n'\n",
      "           '3. **신청 절차**: 육아휴직을 신청하려면, 고용주에게 사전에 신청서를 제출해야 하며, 필요한 서류를 함께 제출해야 '\n",
      "           '합니다.\\n'\n",
      "           '\\n'\n",
      "           '4. **사업주의 지원**: 사업주는 육아휴직 중인 근로자가 직장에 복귀할 수 있도록 지원해야 하며, 직업능력 개발 및 '\n",
      "           '향상을 위한 노력을 해야 합니다.\\n'\n",
      "           '\\n'\n",
      "           '이 외에도 구체적인 조건이나 절차는 고용주나 회사의 취업규칙에 따라 다를 수 있으므로, 해당 사항을 확인하는 것이 '\n",
      "           '중요합니다. 추가적인 질문이 있으시면 언제든지 말씀해 주세요!'}\n",
      "time: 16 ms (started: 2025-05-10 10:38:33 +09:00)\n"
     ]
    }
   ],
   "source": [
    "pprint(agent_response)"
   ]
  },
  {
   "cell_type": "markdown",
   "metadata": {},
   "source": [
    "# Corrective RAG"
   ]
  },
  {
   "cell_type": "code",
   "execution_count": 62,
   "metadata": {},
   "outputs": [
    {
     "name": "stdout",
     "output_type": "stream",
     "text": [
      "time: 32 ms (started: 2025-05-10 12:23:40 +09:00)\n"
     ]
    }
   ],
   "source": [
    "class CorrectiveRAGState(BaseModel):\n",
    "    \"\"\"Base State model for Corrective RAG flow.\"\"\"\n",
    "\n",
    "    question: str = Field(..., description=\"The user's original question.\")\n",
    "    # generation: str = Field(default=\"\", description=\"The current generated answer.\")\n",
    "    relevant_docs: List[Document] = Field(default_factory=list, description=\"Documents retrieved from the database.\")\n",
    "    num_generations: int = Field(default=0, ge=0, le=1, description=\"Number of generations attempted.\")\n",
    "\n",
    "    class Config:\n",
    "        arbitrary_types_allowed = True\n",
    "\n",
    "class InformationItem(BaseModel):\n",
    "    content: str = Field(..., description=\"Extracted information content.\")\n",
    "    source: str = Field(..., description=\"Source of the information.\")\n",
    "    relevance_score: float = Field(..., description=\"Relevance score between 0 and 1.\")\n",
    "    faithfulness_score: float = Field(..., description=\"Faithfulness score between 0 and 1.\")\n",
    "\n",
    "class ExtractedInformation(BaseModel):\n",
    "    strips: List[InformationItem] = Field(..., description=\"List of extracted information items.\")\n",
    "    query_relevance: float = Field(..., description=\"Overall confidence score between 0 and 1.\")\n",
    "\n",
    "\n",
    "class RefinedQuestion(BaseModel):\n",
    "    \"\"\"Refined user question with justification.\"\"\"\n",
    "    question_refined: str = Field(..., description=\"Refined version of the original question.\")\n",
    "    reason: str = Field(..., description=\"Explanation why the question was refined.\")"
   ]
  },
  {
   "cell_type": "markdown",
   "metadata": {},
   "source": [
    "## 고용보험법"
   ]
  },
  {
   "cell_type": "code",
   "execution_count": 63,
   "metadata": {},
   "outputs": [
    {
     "name": "stdout",
     "output_type": "stream",
     "text": [
      "time: 0 ns (started: 2025-05-10 12:23:41 +09:00)\n"
     ]
    }
   ],
   "source": [
    "class EmploymentInsuranceState(CorrectiveRAGState):\n",
    "    \"\"\"\n",
    "    State model for Employment Insurance Information retrieval and response generation.\n",
    "    Inherits base Corrective RAG state and adds additional fields specific to this workflow.\n",
    "    \"\"\"\n",
    "    \n",
    "    rewritten_question: str = Field(\n",
    "        default=\"\",\n",
    "        description=\"The rewritten version of the user's original question, if applicable.\"\n",
    "    )\n",
    "    extracted_info: Optional[ExtractedInformation] = Field(\n",
    "        default=None,\n",
    "        description=\"The structured information extracted from the knowledge base relevant to the question.\"\n",
    "    )\n",
    "    final_answer: Optional[str] = Field(\n",
    "        default=None,\n",
    "        description=\"The response generated by the node model based on retrieved documents.\"\n",
    "    )"
   ]
  },
  {
   "cell_type": "code",
   "execution_count": 64,
   "metadata": {},
   "outputs": [
    {
     "name": "stdout",
     "output_type": "stream",
     "text": [
      "time: 0 ns (started: 2025-05-10 12:23:42 +09:00)\n"
     ]
    }
   ],
   "source": [
    "logger = logging.getLogger(__name__)\n",
    "\n",
    "def retrieve_documents(state: EmploymentInsuranceState) -> dict:\n",
    "    print(\"[Employment Insurance RAG] Retrieving documents...\")\n",
    "    logger.info(\"[Employment Insurance RAG] Retrieving documents...\")\n",
    "    query = state.rewritten_question or state.question\n",
    "    docs = search_ei_law.invoke(query)\n",
    "    return {\"relevant_docs\": docs}\n",
    "\n",
    "def extract_and_evaluate_information(state: EmploymentInsuranceState) -> dict:\n",
    "    print(\"[Employment Insurance RAG] Extracting and evaluating information...\")\n",
    "    logger.info(\"[Employment Insurance RAG] Extracting and evaluating information...\")\n",
    "    extracted_strips = []\n",
    "    \n",
    "    extract_prompt = ChatPromptTemplate.from_messages([\n",
    "        (\"system\", \"\"\"You are an expert on the Employment Insurance Act.  \n",
    "        Review the provided document and extract 3 to 5 key facts or pieces of information related to the user's question.  \n",
    "        For each extracted item, assign two scores between 0 and 1:\n",
    "\n",
    "        1. Relevance: How closely the information answers the user's question.\n",
    "        2. Faithfulness: How accurate and complete the information is in addressing the question.\n",
    "\n",
    "        Output format example:\n",
    "        1. [Extracted information]\n",
    "        - Relevance score: [0-1]\n",
    "        - Faithfulness score: [0-1]\n",
    "        2. [Extracted information]\n",
    "        - Relevance score: [0-1]\n",
    "        - Faithfulness score: [0-1]\n",
    "        ...\n",
    "\n",
    "        Finally, based on all extracted information, provide an overall answerability score between 0 and 1 that reflects how well the document answers the question.\n",
    "        \"\"\"),\n",
    "        (\"human\", \"[Question]\\n{question}\\n\\n[Document]\\n{document_content}\")\n",
    "    ])\n",
    "    \n",
    "    extractor = llm.with_structured_output(schema=ExtractedInformation)\n",
    "\n",
    "    for doc in state.relevant_docs:\n",
    "        try:\n",
    "            response: ExtractedInformation = extractor.invoke(extract_prompt.format(\n",
    "                question=state.question,\n",
    "                document_content=doc.page_content\n",
    "            ))\n",
    "        except Exception as e:\n",
    "            logger.error(f\"Error extracting information from document: {e}\")\n",
    "            return {\"extracted_info\": [], \"num_generations\": state.num_generations + 1}\n",
    "        \n",
    "        if response.query_relevance < 0.8:\n",
    "            continue\n",
    "        \n",
    "        extracted_strips.extend(\n",
    "            strip for strip in response.strips\n",
    "            if strip.relevance_score > 0.7 and strip.faithfulness_score > 0.7\n",
    "        )\n",
    "        \n",
    "    return {\"extracted_info\": extracted_strips, \"num_generations\": state.num_generations + 1}\n",
    "    \n",
    "def rewrite_query(state: EmploymentInsuranceState) -> dict:\n",
    "    print(\"[Employment Insurance RAG] Rewriting question...\")\n",
    "    logger.info(\"[Employment Insurance RAG] Rewriting question...\")\n",
    "    rewrite_prompt = ChatPromptTemplate.from_messages([\n",
    "        (\"system\", \"\"\"You are an expert on the Employment Insurance Act.  \n",
    "        Based on the user's original question and the extracted information, improve the search query to retrieve more relevant and complete information.\n",
    "\n",
    "        Please consider the following when improving the query:\n",
    "        1. The core elements of the original question.\n",
    "        2. The relevance scores of the extracted information.\n",
    "        3. The faithfulness scores of the extracted information.\n",
    "        4. Any missing details or areas that require further clarification.\n",
    "\n",
    "        Guidelines for drafting improved search queries:\n",
    "        1. Suggest 2 to 3 alternative search queries.\n",
    "        2. Each query should be clear, specific, and concise (between 5 to 10 words).\n",
    "        3. Use appropriate legal terms related to the Employment Insurance Act.\n",
    "        4. Provide a brief explanation of why each query was suggested.\n",
    "\n",
    "        Output format example:\n",
    "        1. [Search query 1]\n",
    "        - Reason: [Explanation]\n",
    "        2. [Search query 2]\n",
    "        - Reason: [Explanation]\n",
    "        3. [Search query 3]\n",
    "        - Reason: [Explanation]\n",
    "\n",
    "        Finally, select the query you believe will be the most effective and explain why you chose it.\n",
    "        \"\"\"),\n",
    "        (\"human\", \"\"\"\n",
    "        [Original Question]\\n{question}\\n\\n[Extracted Information]\\n{extracted_info}\n",
    "        \"\"\")\n",
    "    ])\n",
    "    \n",
    "    extracted_text = \"\\n\".join(strip.content for strip in (state.extracted_info or []))\n",
    "    \n",
    "    rewriter = llm.with_structured_output(schema=RefinedQuestion)\n",
    "    try:\n",
    "        response: RefinedQuestion = rewriter.invoke(rewrite_prompt.format(\n",
    "            question=state.question,\n",
    "            extracted_info=extracted_text\n",
    "        ))\n",
    "    except Exception as e:\n",
    "        logger.error(f\"Error rewriting question: {e}\")\n",
    "        return {\"rewritten_question\": state.question}\n",
    "    \n",
    "\n",
    "    return {\"rewritten_question\": response.question_refined}\n",
    "    \n",
    "def generate_answer(state: EmploymentInsuranceState) -> dict:\n",
    "    print(\"[Employment Insurance RAG] Generating answer...\")\n",
    "    logger.info(\"[Employment Insurance RAG] Generating answer...\")\n",
    "    answer_prompt = ChatPromptTemplate.from_messages([\n",
    "        (\"system\", \"\"\"You are an expert on the Employment Insurance Act.  \n",
    "        Based on the user's question and the extracted information, draft a comprehensive answer.\n",
    "\n",
    "        Instructions:\n",
    "        - Write the answer in Markdown format.\n",
    "        - Clearly cite the source of each piece of information used.\n",
    "\n",
    "        Recommended answer structure:\n",
    "        1. Direct response to the user's question.\n",
    "        2. Relevant legal articles and interpretations from the Employment Insurance Act.\n",
    "        3. Additional explanations or examples, if necessary.\n",
    "        4. Conclusion and summary.\n",
    "\n",
    "        For every section, include the source of the information in parentheses.  \n",
    "        Example: (Source: Article 15 of the Employment Insurance Act)\n",
    "        \"\"\"),\n",
    "        (\"human\", \"Question: {question}\\n\\nExtracted Information:\\n{extracted_info}\\n\\nPlease write your final answer following the instructions above.\")\n",
    "    ])\n",
    "    \n",
    "    info_str = \"\\n\".join(\n",
    "        f\"Content: {s.content}\\nSource: {s.source}\\nRelevance: {s.relevance_score}\\nFaithfulness: {s.faithfulness_score}\"\n",
    "        for s in (state.extracted_info or [])\n",
    "    )\n",
    "    try:\n",
    "        response = llm.invoke(answer_prompt.format(\n",
    "            question=state.question,\n",
    "            extracted_info=info_str\n",
    "        ))\n",
    "    except Exception as e:\n",
    "        logger.error(f\"Error generating answer: {e}\")\n",
    "        return {\"final_answer\": \"An error occurred while generating the answer. Please try again.\"}\n",
    "    \n",
    "    return {\"final_answer\": response}\n",
    "    \n",
    "def should_continue(state: EmploymentInsuranceState) -> Literal[\"continue\", \"stop\"]:\n",
    "    print(\"[Employment Insurance RAG] Checking if the answer is satisfactory...\")\n",
    "    logger.info(\"[Employment Insurance RAG] Checking if the answer is satisfactory...\")\n",
    "    if state.num_generations >= 2 or len(state.extracted_info) >= 1:\n",
    "        return \"stop\"\n",
    "    return \"continue\"\n"
   ]
  },
  {
   "cell_type": "code",
   "execution_count": 65,
   "metadata": {},
   "outputs": [
    {
     "data": {
      "image/png": "[encoded data removed]",
      "text/plain": [
       "<IPython.core.display.Image object>"
      ]
     },
     "metadata": {},
     "output_type": "display_data"
    },
    {
     "name": "stdout",
     "output_type": "stream",
     "text": [
      "time: 578 ms (started: 2025-05-10 12:23:44 +09:00)\n"
     ]
    }
   ],
   "source": [
    "def create_ei_law_agent_graph(debug: bool = False) -> StateGraph:\n",
    "    \"\"\"Create the StateGraph for the Employment Insurance Law Retrieval Agent.\"\"\"\n",
    "    graph = StateGraph(state_schema=EmploymentInsuranceState)\n",
    "    \n",
    "    # Add nodes\n",
    "    graph.add_node(\"retrieved\", retrieve_documents)\n",
    "    graph.add_node(\"evaluated\", extract_and_evaluate_information)\n",
    "    graph.add_node(\"rewritten\", rewrite_query)\n",
    "    graph.add_node(\"answered\", generate_answer)\n",
    "    \n",
    "    # Add edges\n",
    "    graph.add_edge(START, \"retrieved\")\n",
    "    graph.add_edge(\"retrieved\", \"evaluated\")\n",
    "    \n",
    "    graph.add_conditional_edges(\n",
    "        source=\"evaluated\",\n",
    "        path=should_continue,\n",
    "        path_map={\n",
    "            \"continue\": \"rewritten\",\n",
    "            \"stop\": \"answered\"\n",
    "        }\n",
    "    )\n",
    "    \n",
    "    graph.add_edge(\"rewritten\", \"retrieved\")\n",
    "    graph.add_edge(\"answered\", END)\n",
    "    \n",
    "    compiled_graph = graph.compile()\n",
    "    \n",
    "    # Optional graph visualization\n",
    "    if debug:\n",
    "        from IPython.display import Image, display\n",
    "        display(Image(compiled_graph.get_graph().draw_mermaid_png()))\n",
    "        \n",
    "    return compiled_graph\n",
    "\n",
    "# Create the graph\n",
    "ei_law_graph = create_ei_law_agent_graph(debug=True)\n"
   ]
  },
  {
   "cell_type": "code",
   "execution_count": 66,
   "metadata": {},
   "outputs": [
    {
     "name": "stdout",
     "output_type": "stream",
     "text": [
      "[Employment Insurance RAG] Retrieving documents...\n",
      "\"Node 'retrieved':\"\n",
      "(\"Value: {'relevant_docs': [Document(metadata={'article': '제56조(지급일 및 지급 방법)', \"\n",
      " \"'chapter': '제4장 실업급여', 'name': '고용보험법', 'section': '제2절 구직급여', 'source': \"\n",
      " \"'../data\\\\\\\\고용보험법(법률)(제20519호)(20250223).pdf'}, page_content='[법률정보]\\\\n다음 \"\n",
      " '조항은 고용보험법 제4장 실업급여 제2절 구직급여에서 발췌한 내용입니다.\\\\n\\\\n[법률조항]\\\\n제56조(지급일 및 지급 '\n",
      " '방법)\\\\n①구직급여는 대통령령으로 정하는 바에 따라 실업의 인정을 받은 일수분(日數分)을 지급한다.②직업안정기관의 장은 각 수급자격자에 '\n",
      " \"대한 구직급여를 지급할 날짜를 정하여 당사자에게 알려야 한다.'), Document(metadata={'article': \"\n",
      " \"'제56조(지급일 및 지급 방법)', 'chapter': '제4장 실업급여', 'name': '고용보험법', 'section': '제2절 \"\n",
      " \"구직급여', 'source': '../data\\\\\\\\고용보험법(법률)(제20519호)(20250223).pdf'}, \"\n",
      " \"page_content='[법률정보]\\\\n다음 조항은 고용보험법 제4장 실업급여 제2절 구직급여에서 발췌한 \"\n",
      " '내용입니다.\\\\n\\\\n[법률조항]\\\\n제56조(지급일 및 지급 방법)\\\\n①구직급여는 대통령령으로 정하는 바에 따라 실업의 인정을 받은 '\n",
      " \"일수분(日數分)을 지급한다.②직업안정기관의 장은 각 수급자격자에 대한 구직급여를 지급할 날짜를 정하여 당사자에게 알려야 한다.')]}\")\n",
      "\n",
      "----------------------------------------------------------\n",
      "\n",
      "[Employment Insurance RAG] Extracting and evaluating information...\n",
      "[Employment Insurance RAG] Checking if the answer is satisfactory...\n",
      "\"Node 'evaluated':\"\n",
      "(\"Value: {'extracted_info': [InformationItem(content='구직급여는 실업의 인정을 받은 일수분을 \"\n",
      " \"지급한다.', source='고용보험법 제4장 실업급여 제2절 구직급여 제56조', relevance_score=0.9, \"\n",
      " \"faithfulness_score=0.9), InformationItem(content='실업급여를 받기 위해서는 실업의 인정을 받아야 \"\n",
      " \"한다.', source='고용보험법 제4장 실업급여 제2절 구직급여 제56조', relevance_score=0.95, \"\n",
      " \"faithfulness_score=0.95), InformationItem(content='구직급여는 실업의 인정을 받은 일수분을 \"\n",
      " \"지급한다.', source='고용보험법 제4장 실업급여 제2절 구직급여 제56조', relevance_score=0.9, \"\n",
      " \"faithfulness_score=0.9)], 'num_generations': 1}\")\n",
      "\n",
      "----------------------------------------------------------\n",
      "\n",
      "[Employment Insurance RAG] Generating answer...\n",
      "\"Node 'answered':\"\n",
      "(\"Value: {'final_answer': AIMessage(content='# 실업급여를 받을 수 있는 조건\\\\n\\\\n실업급여를 받기 \"\n",
      " '위해서는 몇 가지 조건을 충족해야 합니다. 가장 중요한 조건은 실업의 인정을 받는 것입니다. 즉, 실업 상태에 있다는 것이 공식적으로 '\n",
      " '인정되어야 구직급여를 받을 수 있습니다.\\\\n\\\\n## 관련 법조항\\\\n\\\\n1. **실업의 인정**: 실업급여를 받기 위해서는 실업의 '\n",
      " '인정을 받아야 합니다. 이는 고용보험법 제4장 실업급여 제2절 구직급여 제56조에 명시되어 있습니다. 이 조항에 따르면, 구직급여는 '\n",
      " '실업의 인정을 받은 일수분을 지급한다고 규정하고 있습니다 (Source: 고용보험법 제4장 실업급여 제2절 구직급여 '\n",
      " '제56조).\\\\n\\\\n## 추가 설명\\\\n\\\\n실업의 인정을 받기 위해서는 다음과 같은 조건들이 필요할 수 있습니다:\\\\n\\\\n- '\n",
      " '**고용보험 가입**: 실업급여를 받기 위해서는 일정 기간 동안 고용보험에 가입되어 있어야 합니다.\\\\n- **적극적인 구직 활동**: '\n",
      " '실업 상태에서 적극적으로 구직 활동을 해야 하며, 이를 증명할 수 있는 자료를 제출해야 할 수 있습니다.\\\\n- **자발적 퇴사 '\n",
      " '여부**: 자발적으로 퇴사한 경우에는 실업급여 수급이 제한될 수 있습니다.\\\\n\\\\n이러한 조건들은 각 개인의 상황에 따라 다를 수 '\n",
      " '있으며, 구체적인 사항은 고용보험 관련 기관에 문의하는 것이 좋습니다.\\\\n\\\\n## 결론 및 요약\\\\n\\\\n실업급여를 받기 위해서는 '\n",
      " '실업의 인정을 받아야 하며, 이는 고용보험법에 명시된 조건입니다. 실업 상태에서 구직 활동을 하고, 고용보험에 가입된 기간이 충족되어야 '\n",
      " '합니다. 이러한 조건을 충족하면 구직급여를 받을 수 있습니다. 추가적인 정보나 구체적인 상황에 대한 상담은 관련 기관에 문의하는 것이 '\n",
      " \"바람직합니다.', additional_kwargs={'refusal': None}, \"\n",
      " \"response_metadata={'token_usage': {'completion_tokens': 433, \"\n",
      " \"'prompt_tokens': 354, 'total_tokens': 787, 'completion_tokens_details': \"\n",
      " \"{'accepted_prediction_tokens': 0, 'audio_tokens': 0, 'reasoning_tokens': 0, \"\n",
      " \"'rejected_prediction_tokens': 0}, 'prompt_tokens_details': {'audio_tokens': \"\n",
      " \"0, 'cached_tokens': 0}}, 'model_name': 'gpt-4o-mini-2024-07-18', \"\n",
      " \"'system_fingerprint': 'fp_0392822090', 'id': \"\n",
      " \"'chatcmpl-BVV6ZIaStsySAxnAa2PixddLGnfrj', 'finish_reason': 'stop', \"\n",
      " \"'logprobs': None}, id='run-9bcdbe3c-6688-4dd1-91c2-a26b99d38a0c-0', \"\n",
      " \"usage_metadata={'input_tokens': 354, 'output_tokens': 433, 'total_tokens': \"\n",
      " \"787, 'input_token_details': {'audio': 0, 'cache_read': 0}, \"\n",
      " \"'output_token_details': {'audio': 0, 'reasoning': 0}})}\")\n",
      "\n",
      "----------------------------------------------------------\n",
      "\n",
      "time: 15.6 s (started: 2025-05-10 12:23:45 +09:00)\n"
     ]
    }
   ],
   "source": [
    "inputs = {\"question\": \"실업급여를 받을 수 있는 조건이 있나요?\"}\n",
    "\n",
    "for chunk in ei_law_graph.stream(inputs):\n",
    "    for key, value in chunk.items():\n",
    "        # 노드 출력\n",
    "        pprint(f\"Node '{key}':\")\n",
    "        pprint(f\"Value: {value}\", indent=2, width=80, depth=None)\n",
    "    print(\"\\n----------------------------------------------------------\\n\")"
   ]
  },
  {
   "cell_type": "code",
   "execution_count": 53,
   "metadata": {},
   "outputs": [
    {
     "name": "stdout",
     "output_type": "stream",
     "text": [
      "# 실업급여를 받을 수 있는 조건\n",
      "\n",
      "실업급여를 받기 위해서는 몇 가지 조건을 충족해야 합니다. 구직급여는 실업의 인정을 받은 일수분을 지급받게 되며, 이는 고용보험법에 명시되어 있습니다.\n",
      "\n",
      "## 관련 법률 조항\n",
      "\n",
      "1. **실업의 인정**: 구직급여는 실업의 인정을 받은 일수분을 지급합니다. 이는 고용보험법 제4장 실업급여 제2절 구직급여 제56조에 명시되어 있습니다. (Source: 고용보험법 제4장 실업급여 제2절 구직급여 제56조)\n",
      "\n",
      "## 추가 설명\n",
      "\n",
      "실업급여를 받기 위해서는 다음과 같은 조건을 충족해야 합니다:\n",
      "\n",
      "- **실업 상태**: 신청자는 고용이 종료된 상태여야 하며, 자발적으로 퇴사한 경우에는 특정 조건을 충족해야 합니다.\n",
      "- **구직 활동**: 실업급여를 받기 위해서는 적극적으로 구직 활동을 해야 하며, 이를 증명할 수 있어야 합니다.\n",
      "- **보험료 납부**: 신청자는 일정 기간 동안 고용보험료를 납부한 기록이 있어야 합니다.\n",
      "\n",
      "이러한 조건들은 실업급여의 지급을 위한 기본적인 요건으로, 각 조건을 충족하지 못할 경우 실업급여를 받을 수 없습니다.\n",
      "\n",
      "## 결론 및 요약\n",
      "\n",
      "실업급여를 받기 위해서는 실업의 인정을 받아야 하며, 구직 활동을 하고, 고용보험료를 일정 기간 납부한 기록이 필요합니다. 이러한 조건들은 고용보험법에 명시되어 있으며, 이를 통해 실업급여의 지급이 이루어집니다. (Source: 고용보험법 제4장 실업급여 제2절 구직급여 제56조)\n",
      "time: 15 ms (started: 2025-05-10 11:43:57 +09:00)\n"
     ]
    }
   ],
   "source": [
    "print(value['refined_question'].content)"
   ]
  }
 ],
 "metadata": {
  "kernelspec": {
   "display_name": "rag-chatbot-fMiVejxw-py3.12",
   "language": "python",
   "name": "python3"
  },
  "language_info": {
   "codemirror_mode": {
    "name": "ipython",
    "version": 3
   },
   "file_extension": ".py",
   "mimetype": "text/x-python",
   "name": "python",
   "nbconvert_exporter": "python",
   "pygments_lexer": "ipython3",
   "version": "3.12.0"
  }
 },
 "nbformat": 4,
 "nbformat_minor": 2
}
